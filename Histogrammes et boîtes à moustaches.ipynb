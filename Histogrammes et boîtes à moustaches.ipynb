{
 "cells": [
  {
   "cell_type": "markdown",
   "metadata": {},
   "source": [
    "## Histogrammes et boîtes à moustaches"
   ]
  },
  {
   "cell_type": "markdown",
   "metadata": {},
   "source": [
    "### Introduction "
   ]
  },
  {
   "cell_type": "code",
   "execution_count": 7,
   "metadata": {},
   "outputs": [
    {
     "data": {
      "text/html": [
       "<div>\n",
       "<style scoped>\n",
       "    .dataframe tbody tr th:only-of-type {\n",
       "        vertical-align: middle;\n",
       "    }\n",
       "\n",
       "    .dataframe tbody tr th {\n",
       "        vertical-align: top;\n",
       "    }\n",
       "\n",
       "    .dataframe thead th {\n",
       "        text-align: right;\n",
       "    }\n",
       "</style>\n",
       "<table border=\"1\" class=\"dataframe\">\n",
       "  <thead>\n",
       "    <tr style=\"text-align: right;\">\n",
       "      <th></th>\n",
       "      <th>FILM</th>\n",
       "      <th>RT_user_norm</th>\n",
       "      <th>Metacritic_user_nom</th>\n",
       "      <th>IMDB_norm</th>\n",
       "      <th>Fandango_Ratingvalue</th>\n",
       "    </tr>\n",
       "  </thead>\n",
       "  <tbody>\n",
       "    <tr>\n",
       "      <th>0</th>\n",
       "      <td>Avengers: Age of Ultron (2015)</td>\n",
       "      <td>4.3</td>\n",
       "      <td>3.55</td>\n",
       "      <td>3.90</td>\n",
       "      <td>4.5</td>\n",
       "    </tr>\n",
       "    <tr>\n",
       "      <th>1</th>\n",
       "      <td>Cinderella (2015)</td>\n",
       "      <td>4.0</td>\n",
       "      <td>3.75</td>\n",
       "      <td>3.55</td>\n",
       "      <td>4.5</td>\n",
       "    </tr>\n",
       "    <tr>\n",
       "      <th>2</th>\n",
       "      <td>Ant-Man (2015)</td>\n",
       "      <td>4.5</td>\n",
       "      <td>4.05</td>\n",
       "      <td>3.90</td>\n",
       "      <td>4.5</td>\n",
       "    </tr>\n",
       "    <tr>\n",
       "      <th>3</th>\n",
       "      <td>Do You Believe? (2015)</td>\n",
       "      <td>4.2</td>\n",
       "      <td>2.35</td>\n",
       "      <td>2.70</td>\n",
       "      <td>4.5</td>\n",
       "    </tr>\n",
       "    <tr>\n",
       "      <th>4</th>\n",
       "      <td>Hot Tub Time Machine 2 (2015)</td>\n",
       "      <td>1.4</td>\n",
       "      <td>1.70</td>\n",
       "      <td>2.55</td>\n",
       "      <td>3.0</td>\n",
       "    </tr>\n",
       "  </tbody>\n",
       "</table>\n",
       "</div>"
      ],
      "text/plain": [
       "                             FILM  RT_user_norm  Metacritic_user_nom  \\\n",
       "0  Avengers: Age of Ultron (2015)           4.3                 3.55   \n",
       "1               Cinderella (2015)           4.0                 3.75   \n",
       "2                  Ant-Man (2015)           4.5                 4.05   \n",
       "3          Do You Believe? (2015)           4.2                 2.35   \n",
       "4   Hot Tub Time Machine 2 (2015)           1.4                 1.70   \n",
       "\n",
       "   IMDB_norm  Fandango_Ratingvalue  \n",
       "0       3.90                   4.5  \n",
       "1       3.55                   4.5  \n",
       "2       3.90                   4.5  \n",
       "3       2.70                   4.5  \n",
       "4       2.55                   3.0  "
      ]
     },
     "execution_count": 7,
     "metadata": {},
     "output_type": "execute_result"
    }
   ],
   "source": [
    "import pandas as pd \n",
    "reviews = pd.read_csv(\"C:/Users/abdou/training_dataS/Data/fandango_scores.csv\")\n",
    "cols = [\"FILM\", \"RT_user_norm\", \"Metacritic_user_nom\",\"IMDB_norm\",\"Fandango_Ratingvalue\"]\n",
    "\n",
    "norm_reviews = reviews[cols]\n",
    "norm_reviews[:5]"
   ]
  },
  {
   "cell_type": "markdown",
   "metadata": {},
   "source": [
    "### Distribution de fréquences"
   ]
  },
  {
   "cell_type": "code",
   "execution_count": 8,
   "metadata": {},
   "outputs": [],
   "source": [
    "#Series_value_counts()"
   ]
  },
  {
   "cell_type": "code",
   "execution_count": 10,
   "metadata": {},
   "outputs": [
    {
     "data": {
      "text/plain": [
       "4.1    16\n",
       "4.2    12\n",
       "3.9    12\n",
       "4.3    11\n",
       "3.7     9\n",
       "3.5     9\n",
       "4.5     9\n",
       "3.4     9\n",
       "3.6     8\n",
       "4.4     7\n",
       "4.0     7\n",
       "3.2     5\n",
       "2.9     5\n",
       "3.8     5\n",
       "3.3     4\n",
       "4.6     4\n",
       "3.0     4\n",
       "4.8     3\n",
       "3.1     3\n",
       "2.8     2\n",
       "2.7     2\n",
       "Name: Fandango_Ratingvalue, dtype: int64"
      ]
     },
     "execution_count": 10,
     "metadata": {},
     "output_type": "execute_result"
    }
   ],
   "source": [
    "freq_counts= norm_reviews['Fandango_Ratingvalue'].value_counts()\n",
    "freq_counts"
   ]
  },
  {
   "cell_type": "code",
   "execution_count": 11,
   "metadata": {},
   "outputs": [
    {
     "data": {
      "text/plain": [
       "2.7     2\n",
       "2.8     2\n",
       "2.9     5\n",
       "3.0     4\n",
       "3.1     3\n",
       "3.2     5\n",
       "3.3     4\n",
       "3.4     9\n",
       "3.5     9\n",
       "3.6     8\n",
       "3.7     9\n",
       "3.8     5\n",
       "3.9    12\n",
       "4.0     7\n",
       "4.1    16\n",
       "4.2    12\n",
       "4.3    11\n",
       "4.4     7\n",
       "4.5     9\n",
       "4.6     4\n",
       "4.8     3\n",
       "Name: Fandango_Ratingvalue, dtype: int64"
      ]
     },
     "execution_count": 11,
     "metadata": {},
     "output_type": "execute_result"
    }
   ],
   "source": [
    "#trier pas index : \n",
    "sorted_freq_counts= freq_counts.sort_index()\n",
    "sorted_freq_counts"
   ]
  },
  {
   "cell_type": "code",
   "execution_count": 12,
   "metadata": {},
   "outputs": [
    {
     "data": {
      "text/plain": [
       "3.60    10\n",
       "3.30     9\n",
       "3.15     9\n",
       "3.90     9\n",
       "3.70     8\n",
       "3.45     7\n",
       "3.55     7\n",
       "3.35     7\n",
       "3.75     6\n",
       "3.20     6\n",
       "2.75     5\n",
       "3.65     5\n",
       "3.50     4\n",
       "2.70     4\n",
       "3.05     4\n",
       "4.10     4\n",
       "3.25     4\n",
       "3.85     4\n",
       "3.80     3\n",
       "2.95     3\n",
       "2.60     2\n",
       "4.20     2\n",
       "2.45     2\n",
       "2.30     2\n",
       "3.95     2\n",
       "2.80     2\n",
       "3.00     2\n",
       "4.00     1\n",
       "3.10     1\n",
       "2.00     1\n",
       "2.50     1\n",
       "2.85     1\n",
       "4.05     1\n",
       "4.15     1\n",
       "2.20     1\n",
       "4.30     1\n",
       "2.55     1\n",
       "2.15     1\n",
       "3.40     1\n",
       "2.90     1\n",
       "2.10     1\n",
       "Name: IMDB_norm, dtype: int64"
      ]
     },
     "execution_count": 12,
     "metadata": {},
     "output_type": "execute_result"
    }
   ],
   "source": [
    "imdb_freq_counts= norm_reviews['IMDB_norm'].value_counts()\n",
    "imdb_freq_counts"
   ]
  },
  {
   "cell_type": "code",
   "execution_count": 17,
   "metadata": {},
   "outputs": [
    {
     "data": {
      "text/plain": [
       "2.00     1\n",
       "2.10     1\n",
       "2.15     1\n",
       "2.20     1\n",
       "2.30     2\n",
       "2.45     2\n",
       "2.50     1\n",
       "2.55     1\n",
       "2.60     2\n",
       "2.70     4\n",
       "2.75     5\n",
       "2.80     2\n",
       "2.85     1\n",
       "2.90     1\n",
       "2.95     3\n",
       "3.00     2\n",
       "3.05     4\n",
       "3.10     1\n",
       "3.15     9\n",
       "3.20     6\n",
       "3.25     4\n",
       "3.30     9\n",
       "3.35     7\n",
       "3.40     1\n",
       "3.45     7\n",
       "3.50     4\n",
       "3.55     7\n",
       "3.60    10\n",
       "3.65     5\n",
       "3.70     8\n",
       "3.75     6\n",
       "3.80     3\n",
       "3.85     4\n",
       "3.90     9\n",
       "3.95     2\n",
       "4.00     1\n",
       "4.05     1\n",
       "4.10     4\n",
       "4.15     1\n",
       "4.20     2\n",
       "4.30     1\n",
       "Name: IMDB_norm, dtype: int64"
      ]
     },
     "execution_count": 17,
     "metadata": {},
     "output_type": "execute_result"
    }
   ],
   "source": [
    "imdb_freq_counts.sort_index() "
   ]
  },
  {
   "cell_type": "markdown",
   "metadata": {},
   "source": [
    "### Les histogrammes avec Matplotlib"
   ]
  },
  {
   "cell_type": "code",
   "execution_count": 18,
   "metadata": {},
   "outputs": [],
   "source": [
    "#hist(values, range(a,b))"
   ]
  },
  {
   "cell_type": "code",
   "execution_count": 26,
   "metadata": {},
   "outputs": [
    {
     "data": {
      "image/png": "[encoded data removed]",
      "text/plain": [
       "<Figure size 432x288 with 1 Axes>"
      ]
     },
     "metadata": {
      "needs_background": "light"
     },
     "output_type": "display_data"
    }
   ],
   "source": [
    "import matplotlib.pyplot as plt \n",
    "\n",
    "fig,ax = plt.subplots() \n",
    "ax.hist(norm_reviews['Fandango_Ratingvalue'], range=(0,5))\n",
    "plt.show()"
   ]
  },
  {
   "cell_type": "markdown",
   "metadata": {},
   "source": [
    "### Comparaison d'histogrammes"
   ]
  },
  {
   "cell_type": "code",
   "execution_count": 32,
   "metadata": {},
   "outputs": [
    {
     "data": {
      "image/png": "[encoded data removed]",
      "text/plain": [
       "<Figure size 360x1440 with 4 Axes>"
      ]
     },
     "metadata": {
      "needs_background": "light"
     },
     "output_type": "display_data"
    }
   ],
   "source": [
    "fig = plt.figure(figsize=(5,20)) \n",
    "ax1 = fig.add_subplot(4,1,1)\n",
    "ax2 = fig.add_subplot(4,1,2)\n",
    "ax3 = fig.add_subplot(4,1,3)\n",
    "ax4 = fig.add_subplot(4,1,4)\n",
    "\n",
    "\n",
    "#Sous-graphoque1 : \n",
    "Fandango_Ratingvalue = norm_reviews['Fandango_Ratingvalue']\n",
    "ax1.set_xlim(0,5)\n",
    "ax1.set_ylim(0,5)\n",
    "ax1.hist(Fandango_Ratingvalue, bins=20, range=(0,5) )\n",
    "ax1.set_ylim(0,50)\n",
    "ax1.set_title('Distribution des notes de fandango')\n",
    "\n",
    "\n",
    "#Sous-graphoque2 \n",
    "RT_user_norm= norm_reviews['RT_user_norm']\n",
    "ax2.set_xlim(0,5)\n",
    "ax2.set_ylim(0,5)\n",
    "ax2.hist(RT_user_norm, bins=20, range=(0,5) )\n",
    "ax2.set_ylim(0,50)\n",
    "ax2.set_title('Distribution des notes de Rotten Tomatoes')\n",
    " \n",
    "#Sous-graphoque3 :\n",
    "Metacritic_user_nom= norm_reviews['Metacritic_user_nom']\n",
    "ax3.set_xlim(0,5)\n",
    "ax3.set_ylim(0,5)\n",
    "ax3.hist(Metacritic_user_nom, bins=20, range=(0,5) )\n",
    "ax3.set_ylim(0,50)\n",
    "ax3.set_title('Distribution des notes de Metacritic')\n",
    "\n",
    "#Sous-graphoque4 :\n",
    "IMDB_norm= norm_reviews['IMDB_norm']\n",
    "ax4.set_xlim(0,5)\n",
    "ax4.set_ylim(0,5)\n",
    "ax4.hist(IMDB_norm, bins=20, range=(0,5) )\n",
    "ax4.set_ylim(0,50)\n",
    "ax4.set_title('Distribution des notes de IMDB')\n",
    "\n",
    "plt.show()"
   ]
  },
  {
   "cell_type": "markdown",
   "metadata": {},
   "source": [
    "### Boîte à moustaches"
   ]
  },
  {
   "cell_type": "code",
   "execution_count": 33,
   "metadata": {},
   "outputs": [
    {
     "data": {
      "image/png": "[encoded data removed]",
      "text/plain": [
       "<Figure size 432x288 with 1 Axes>"
      ]
     },
     "metadata": {
      "needs_background": "light"
     },
     "output_type": "display_data"
    }
   ],
   "source": [
    "fig,ax = plt.subplots() \n",
    "ax.boxplot(norm_reviews['RT_user_norm'])\n",
    "ax.set_xticklabels(['Rotten Tomatoes'])\n",
    "ax.set_ylim(0,5)\n",
    "plt.show()"
   ]
  },
  {
   "cell_type": "markdown",
   "metadata": {},
   "source": [
    "###  Plusieurs diagrammes à boîte"
   ]
  },
  {
   "cell_type": "code",
   "execution_count": 38,
   "metadata": {},
   "outputs": [
    {
     "data": {
      "image/png": "[encoded data removed]",
      "text/plain": [
       "<Figure size 432x288 with 1 Axes>"
      ]
     },
     "metadata": {
      "needs_background": "light"
     },
     "output_type": "display_data"
    }
   ],
   "source": [
    "fig,ax = plt.subplots() \n",
    "num_cols=['RT_user_norm','Metacritic_user_nom','IMDB_norm','Fandango_Ratingvalue']\n",
    "ax.boxplot(norm_reviews[num_cols].values )\n",
    "ax.set_xticklabels(num_cols, rotation=90)\n",
    "ax.set_ylim(0,5)\n",
    "\n",
    "plt.show()"
   ]
  },
  {
   "cell_type": "code",
   "execution_count": null,
   "metadata": {},
   "outputs": [],
   "source": []
  }
 ],
 "metadata": {
  "kernelspec": {
   "display_name": "Python 3",
   "language": "python",
   "name": "python3"
  },
  "language_info": {
   "codemirror_mode": {
    "name": "ipython",
    "version": 3
   },
   "file_extension": ".py",
   "mimetype": "text/x-python",
   "name": "python",
   "nbconvert_exporter": "python",
   "pygments_lexer": "ipython3",
   "version": "3.7.6"
  }
 },
 "nbformat": 4,
 "nbformat_minor": 4
}
