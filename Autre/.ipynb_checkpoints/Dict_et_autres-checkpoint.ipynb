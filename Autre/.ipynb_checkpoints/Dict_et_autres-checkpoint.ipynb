{
 "cells": [
  {
   "cell_type": "code",
   "execution_count": 10,
   "metadata": {},
   "outputs": [],
   "source": [
    "personnes={\n",
    "    'pers1':{\n",
    "        'Nom':\"aaa\",\n",
    "        'Prenom':\"bbb\",\n",
    "        'Age':14\n",
    "    },\n",
    "      'pers2':{\n",
    "        'Nom':\"ccc\",\n",
    "        'Prenom':\"ddd\",\n",
    "        'Age':15\n",
    "    },\n",
    "      'pers3':{\n",
    "        'Nom':\"eee\",\n",
    "        'Prenom':\"fff\",\n",
    "        'Age':14\n",
    "    } \n",
    "}"
   ]
  },
  {
   "cell_type": "code",
   "execution_count": 11,
   "metadata": {},
   "outputs": [
    {
     "data": {
      "text/plain": [
       "{'pers1': {'Nom': 'aaa', 'Prenom': 'bbb', 'Age': 14},\n",
       " 'pers2': {'Nom': 'abdou', 'Prenom': 'ddd', 'Age': 15},\n",
       " 'pers3': {'Nom': 'eee', 'Prenom': 'fff', 'Age': 14}}"
      ]
     },
     "execution_count": 11,
     "metadata": {},
     "output_type": "execute_result"
    }
   ],
   "source": [
    "personnes['pers2']['Nom']=\"abdou\"\n",
    "personnes"
   ]
  },
  {
   "cell_type": "code",
   "execution_count": 22,
   "metadata": {},
   "outputs": [
    {
     "ename": "SyntaxError",
     "evalue": "invalid syntax (<ipython-input-22-82781f813395>, line 3)",
     "output_type": "error",
     "traceback": [
      "\u001b[1;36m  File \u001b[1;32m\"<ipython-input-22-82781f813395>\"\u001b[1;36m, line \u001b[1;32m3\u001b[0m\n\u001b[1;33m    tab=[for element in string.ascii_uppercase]\u001b[0m\n\u001b[1;37m           ^\u001b[0m\n\u001b[1;31mSyntaxError\u001b[0m\u001b[1;31m:\u001b[0m invalid syntax\n"
     ]
    }
   ],
   "source": [
    "import string \n",
    "tab=[]\n",
    "tab=[for element in string.ascii_uppercase]"
   ]
  },
  {
   "cell_type": "code",
   "execution_count": null,
   "metadata": {},
   "outputs": [],
   "source": []
  }
 ],
 "metadata": {
  "kernelspec": {
   "display_name": "Python 3",
   "language": "python",
   "name": "python3"
  },
  "language_info": {
   "codemirror_mode": {
    "name": "ipython",
    "version": 3
   },
   "file_extension": ".py",
   "mimetype": "text/x-python",
   "name": "python",
   "nbconvert_exporter": "python",
   "pygments_lexer": "ipython3",
   "version": "3.7.6"
  }
 },
 "nbformat": 4,
 "nbformat_minor": 4
}
