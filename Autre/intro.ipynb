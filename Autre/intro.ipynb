{
 "cells": [
  {
   "cell_type": "code",
   "execution_count": 9,
   "metadata": {},
   "outputs": [],
   "source": [
    "name = 'Owain'\n",
    "message = 'Welcome Mister'\n",
    "test = \"Owain's a boy\""
   ]
  },
  {
   "cell_type": "code",
   "execution_count": 10,
   "metadata": {},
   "outputs": [
    {
     "name": "stdout",
     "output_type": "stream",
     "text": [
      "Welcome Mister Owain\n"
     ]
    }
   ],
   "source": [
    "#print('bonjour tout le monde')\n",
    "# print(message + ' ' +  name)\n",
    "print(message, name)"
   ]
  },
  {
   "cell_type": "code",
   "execution_count": 11,
   "metadata": {},
   "outputs": [
    {
     "name": "stdout",
     "output_type": "stream",
     "text": [
      "Welcome Mister Owain\n"
     ]
    }
   ],
   "source": [
    "print(f'{message} {name}')"
   ]
  },
  {
   "cell_type": "code",
   "execution_count": 12,
   "metadata": {},
   "outputs": [
    {
     "name": "stdout",
     "output_type": "stream",
     "text": [
      "bonjour Owain\n"
     ]
    }
   ],
   "source": [
    "print(f'bonjour {name}')"
   ]
  },
  {
   "cell_type": "markdown",
   "metadata": {},
   "source": [
    "#### Traitements des strings"
   ]
  },
  {
   "cell_type": "code",
   "execution_count": 13,
   "metadata": {},
   "outputs": [
    {
     "data": {
      "text/plain": [
       "'a'"
      ]
     },
     "execution_count": 13,
     "metadata": {},
     "output_type": "execute_result"
    }
   ],
   "source": [
    "nom = 'owain'\n",
    "nom.lower() # owain\n",
    "nom.upper() # OWAIN\n",
    "nom.title() # Owain \n",
    "nom.count('o') # l'occurence de la chaine donnée\n",
    "nom.startswith('ow')\n",
    "nom.strip() # enlève les espaces à droite et à gauche de la chaine\n",
    "nom.rstrip() # enlève les espaces à droite de la chaine\n",
    "len(nom) # taille de la chaine \n",
    "\n",
    "# \n",
    "indice_de_A = nom.index('a')\n",
    "nom[indice_de_A]\n",
    "nom[nom.index('a')]\n",
    "\n",
    "# a.replace('a','toto')"
   ]
  },
  {
   "cell_type": "markdown",
   "metadata": {},
   "source": [
    "### affichage formatée"
   ]
  },
  {
   "cell_type": "code",
   "execution_count": 14,
   "metadata": {},
   "outputs": [
    {
     "ename": "NameError",
     "evalue": "name 'name1' is not defined",
     "output_type": "error",
     "traceback": [
      "\u001b[1;31m---------------------------------------------------------------------------\u001b[0m",
      "\u001b[1;31mNameError\u001b[0m                                 Traceback (most recent call last)",
      "\u001b[1;32m<ipython-input-14-77877feeb599>\u001b[0m in \u001b[0;36m<module>\u001b[1;34m\u001b[0m\n\u001b[1;32m----> 1\u001b[1;33m \u001b[0mprint\u001b[0m\u001b[1;33m(\u001b[0m\u001b[1;34mf'{name1:12} => hello'\u001b[0m\u001b[1;33m)\u001b[0m\u001b[1;33m\u001b[0m\u001b[1;33m\u001b[0m\u001b[0m\n\u001b[0m\u001b[0;32m      2\u001b[0m \u001b[0mprint\u001b[0m\u001b[1;33m(\u001b[0m\u001b[1;34mf'{name2:12} => hello'\u001b[0m\u001b[1;33m)\u001b[0m\u001b[1;33m\u001b[0m\u001b[1;33m\u001b[0m\u001b[0m\n",
      "\u001b[1;31mNameError\u001b[0m: name 'name1' is not defined"
     ]
    }
   ],
   "source": [
    "print(f'{name1:12} => hello')\n",
    "print(f'{name2:12} => hello')"
   ]
  },
  {
   "cell_type": "code",
   "execution_count": 15,
   "metadata": {},
   "outputs": [
    {
     "name": "stdout",
     "output_type": "stream",
     "text": [
      "Owain           => hello\n",
      "Dina Laury      => hello\n",
      "Tovihouande     => hello\n"
     ]
    }
   ],
   "source": [
    "name1 = 'Owain'\n",
    "name2 = 'Dina Laury'\n",
    "name3 = 'Tovihouande'\n",
    "# print(f'{name1} ==> {name:}')\n",
    "\n",
    "# get str length\n",
    "size1 = len(name1)\n",
    "size2 = len(name2)\n",
    "tab = [2,25,3,85,-23,0,14]\n",
    "taille_max = max(size1, size2)\n",
    "\n",
    "# print(f'{name1:{taille_max}} => hello')\n",
    "# print(f'{name2:{taille_max}} => hello')\n",
    "# variables \n",
    "# print(f'{name1:15} => hello')\n",
    "# print(f'{name2:15} => hello')\n",
    "# print(f'{name3:15} => hello')\n",
    "\n",
    "size_format = 15\n",
    "print(f'{name1:{size_format}} => hello')\n",
    "print(f'{name2:{size_format}} => hello')\n",
    "print(f'{name3:{size_format}} => hello')"
   ]
  },
  {
   "cell_type": "markdown",
   "metadata": {},
   "source": [
    "#### Qulques fonctions natives "
   ]
  },
  {
   "cell_type": "code",
   "execution_count": 16,
   "metadata": {},
   "outputs": [],
   "source": [
    "# min()\n",
    "# max()\n",
    "# str()\n",
    "# print()\n",
    "# vars()\n",
    "# https://docs.python.org/fr/3/library/functions.html"
   ]
  },
  {
   "cell_type": "markdown",
   "metadata": {},
   "source": [
    "### Listes"
   ]
  },
  {
   "cell_type": "code",
   "execution_count": null,
   "metadata": {},
   "outputs": [],
   "source": []
  },
  {
   "cell_type": "code",
   "execution_count": 17,
   "metadata": {},
   "outputs": [],
   "source": [
    "fruits = ['orange', 'apple', 'pear', 'banana', 'kiwi', 'apple', 'banana']\n",
    "#etudiants = ['Marie', 'Estelle', 'Ismaiel', 'Hamza', 'Meriem']"
   ]
  },
  {
   "cell_type": "code",
   "execution_count": 18,
   "metadata": {},
   "outputs": [
    {
     "data": {
      "text/plain": [
       "'kiwi'"
      ]
     },
     "execution_count": 18,
     "metadata": {},
     "output_type": "execute_result"
    }
   ],
   "source": [
    "fruits[fruits.index('kiwi')]"
   ]
  },
  {
   "cell_type": "code",
   "execution_count": 19,
   "metadata": {},
   "outputs": [],
   "source": [
    "fruits.reverse()"
   ]
  },
  {
   "cell_type": "code",
   "execution_count": 20,
   "metadata": {},
   "outputs": [
    {
     "name": "stdout",
     "output_type": "stream",
     "text": [
      "['orange', 'apple', 'pear']\n"
     ]
    }
   ],
   "source": [
    "fruits = ['orange', 'apple', 'pear']\n",
    "print(fruits)"
   ]
  },
  {
   "cell_type": "code",
   "execution_count": 21,
   "metadata": {},
   "outputs": [
    {
     "data": {
      "text/plain": [
       "['orange', 'apple', 'pear', ['Anis', 'Drifa']]"
      ]
     },
     "execution_count": 21,
     "metadata": {},
     "output_type": "execute_result"
    }
   ],
   "source": [
    "monfruit  = 'fraise'\n",
    "fruits.append(['Anis', 'Drifa'])\n",
    "fruits"
   ]
  },
  {
   "cell_type": "code",
   "execution_count": 22,
   "metadata": {},
   "outputs": [
    {
     "data": {
      "text/plain": [
       "['apple', 'apple', 'banana', 'banana', 'grape', 'kiwi', 'orange', 'pear']"
      ]
     },
     "execution_count": 22,
     "metadata": {},
     "output_type": "execute_result"
    }
   ],
   "source": [
    "fruits = ['banana', 'apple', 'kiwi', 'banana', 'pear', 'apple', 'orange', 'grape']\n",
    "fruits.sort()\n",
    "fruits"
   ]
  },
  {
   "cell_type": "code",
   "execution_count": 23,
   "metadata": {},
   "outputs": [],
   "source": [
    "liste_fruits = ['apple','banana', 'grape', 'kiwi', 'orange', 'pear']"
   ]
  },
  {
   "cell_type": "code",
   "execution_count": 24,
   "metadata": {},
   "outputs": [
    {
     "data": {
      "text/plain": [
       "8"
      ]
     },
     "execution_count": 24,
     "metadata": {},
     "output_type": "execute_result"
    }
   ],
   "source": [
    "len(fruits)"
   ]
  },
  {
   "cell_type": "code",
   "execution_count": 25,
   "metadata": {},
   "outputs": [
    {
     "name": "stdout",
     "output_type": "stream",
     "text": [
      "5\n",
      "10\n",
      "15\n"
     ]
    }
   ],
   "source": [
    "# for i allant 0 à len(fruits) i++ -> afficher(fruit)\n",
    "for i in range(5, 20, 5):\n",
    "    print(i)"
   ]
  },
  {
   "cell_type": "code",
   "execution_count": 26,
   "metadata": {},
   "outputs": [
    {
     "name": "stdout",
     "output_type": "stream",
     "text": [
      "apple\n",
      "banana\n",
      "grape\n",
      "kiwi\n",
      "orange\n",
      "pear\n"
     ]
    }
   ],
   "source": [
    "# for i allant 0 à len(fruits) i++ -> afficher(fruit)\n",
    "liste_fruits = ['apple','banana', 'grape', 'kiwi', 'orange', 'pear']\n",
    "for fruit in liste_fruits:\n",
    "    print(fruit)"
   ]
  },
  {
   "cell_type": "code",
   "execution_count": 27,
   "metadata": {},
   "outputs": [
    {
     "data": {
      "text/plain": [
       "['apple', 'banana', 'grape', 'kiwi', 'orange', 'pear', 'fraise']"
      ]
     },
     "execution_count": 27,
     "metadata": {},
     "output_type": "execute_result"
    }
   ],
   "source": [
    "liste_fruits[2:5] # slice\n",
    "liste_fruits.append('fraise')\n",
    "liste_fruits"
   ]
  },
  {
   "cell_type": "code",
   "execution_count": 28,
   "metadata": {},
   "outputs": [],
   "source": [
    "liste_fruits.insert(3,'mangue')\n",
    "liste_fruits.clear()"
   ]
  },
  {
   "cell_type": "markdown",
   "metadata": {},
   "source": [
    "### Dictionnaires"
   ]
  },
  {
   "cell_type": "code",
   "execution_count": null,
   "metadata": {},
   "outputs": [],
   "source": []
  },
  {
   "cell_type": "code",
   "execution_count": 29,
   "metadata": {},
   "outputs": [],
   "source": [
    "phrase = \"je mange du fromage\"\n"
   ]
  },
  {
   "cell_type": "code",
   "execution_count": 30,
   "metadata": {},
   "outputs": [
    {
     "data": {
      "text/plain": [
       "'Je Mange Du Fromage'"
      ]
     },
     "execution_count": 30,
     "metadata": {},
     "output_type": "execute_result"
    }
   ],
   "source": [
    "phrase.title()"
   ]
  },
  {
   "cell_type": "code",
   "execution_count": 31,
   "metadata": {},
   "outputs": [
    {
     "data": {
      "text/plain": [
       "'Je mange du fromage'"
      ]
     },
     "execution_count": 31,
     "metadata": {},
     "output_type": "execute_result"
    }
   ],
   "source": [
    "phrase.capitalize()"
   ]
  },
  {
   "cell_type": "code",
   "execution_count": 32,
   "metadata": {},
   "outputs": [
    {
     "ename": "NameError",
     "evalue": "name 'phrase2' is not defined",
     "output_type": "error",
     "traceback": [
      "\u001b[1;31m---------------------------------------------------------------------------\u001b[0m",
      "\u001b[1;31mNameError\u001b[0m                                 Traceback (most recent call last)",
      "\u001b[1;32m<ipython-input-32-6960e15eb9bb>\u001b[0m in \u001b[0;36m<module>\u001b[1;34m\u001b[0m\n\u001b[1;32m----> 1\u001b[1;33m \u001b[0mphrase2\u001b[0m\u001b[1;33m.\u001b[0m\u001b[0msplit\u001b[0m\u001b[1;33m(\u001b[0m\u001b[1;33m)\u001b[0m\u001b[1;33m\u001b[0m\u001b[1;33m\u001b[0m\u001b[0m\n\u001b[0m",
      "\u001b[1;31mNameError\u001b[0m: name 'phrase2' is not defined"
     ]
    }
   ],
   "source": [
    "phrase2.split()"
   ]
  },
  {
   "cell_type": "code",
   "execution_count": 33,
   "metadata": {},
   "outputs": [],
   "source": [
    "phrase2 = \"samedi soir, je vais au cinéma\""
   ]
  },
  {
   "cell_type": "code",
   "execution_count": 34,
   "metadata": {},
   "outputs": [],
   "source": [
    "tab = phrase2.split()\n",
    "vowels = ['a', 'e', 'i', 'o', 'u']"
   ]
  },
  {
   "cell_type": "code",
   "execution_count": 35,
   "metadata": {},
   "outputs": [
    {
     "name": "stdout",
     "output_type": "stream",
     "text": [
      "Reversed string:  retourné tout suis J’en\n"
     ]
    }
   ],
   "source": [
    "chaine = 'J’en suis tout retourné'\n",
    "split_chaine = chaine.split(' ') # split on spaces\n",
    "reversed_str = reversed(split_chaine) # reverse words\n",
    "final_str = ' '.join(reversed_str) # join the reversed words back to string\n",
    "print(\"Reversed string: \" , final_str)"
   ]
  },
  {
   "cell_type": "code",
   "execution_count": 36,
   "metadata": {},
   "outputs": [
    {
     "name": "stdout",
     "output_type": "stream",
     "text": [
      "* \n",
      "* * \n",
      "* * * \n",
      "* * * * \n",
      "* * * * * \n"
     ]
    }
   ],
   "source": [
    "rows = 5\n",
    "for i in range(0, rows):\n",
    "    for j in range(0, i + 1):\n",
    "        print(\"*\", end=' ')\n",
    "    print(\"\\r\")"
   ]
  },
  {
   "cell_type": "markdown",
   "metadata": {},
   "source": [
    "#### Dictionnaire "
   ]
  },
  {
   "cell_type": "code",
   "execution_count": 37,
   "metadata": {},
   "outputs": [],
   "source": [
    "fruits = []"
   ]
  },
  {
   "cell_type": "code",
   "execution_count": 38,
   "metadata": {},
   "outputs": [],
   "source": [
    "personnes = {\n",
    "    \n",
    "    \"A\":{\n",
    "        \n",
    "        \"Adjaz\":{        \n",
    "            \"nom\": \"Adjaz\",\n",
    "            \"prenom\": \"Maya\",\n",
    "            \"age\": 25,\n",
    "            \"hobbies\":[\"Cuisine\", \"shopping\", \"Basket\"]\n",
    "        }, \n",
    "        \n",
    "        \"Alamou\":{        \n",
    "            \"nom\": \"Alamou\",\n",
    "            \"prenom\": \"Mermoz\",\n",
    "            \"age\": 0,\n",
    "            \"hobbies\":[\"Foot\", \"shopping\", \"Python\"]\n",
    "        }\n",
    "    }, \n",
    "    \n",
    "    \"B\":{        \n",
    "        \"nom\": \"Bogoss\",\n",
    "        \"prenom\": \"Anis\",\n",
    "        \"service\": \"Cyber Hacker\"      \n",
    "    }, \n",
    "    \n",
    "    \"C\":{        \n",
    "        \"nom\": \"Chris\",\n",
    "        \"prenom\": \"Blaise\",\n",
    "        \"service\": \"Dev fullstack\"      \n",
    "    }\n",
    "}"
   ]
  },
  {
   "cell_type": "code",
   "execution_count": 39,
   "metadata": {},
   "outputs": [
    {
     "name": "stdout",
     "output_type": "stream",
     "text": [
      "{'B': {'nom': 'Bogoss', 'prenom': 'Anis', 'service': 'Cyber Hacker'}, 'C': {'nom': 'Chris', 'prenom': 'Blaise', 'service': 'Dev fullstack'}}\n"
     ]
    }
   ],
   "source": [
    "del(personnes['A'])\n",
    "print(personnes)"
   ]
  },
  {
   "cell_type": "code",
   "execution_count": null,
   "metadata": {},
   "outputs": [],
   "source": []
  },
  {
   "cell_type": "code",
   "execution_count": 40,
   "metadata": {},
   "outputs": [],
   "source": [
    "mon_ami = {\n",
    "    \"nom\": \"Zann\",\n",
    "    \"prenom\": \"Stone\",\n",
    "    \"numero\": \"0600010203\"\n",
    "}"
   ]
  },
  {
   "cell_type": "code",
   "execution_count": 41,
   "metadata": {},
   "outputs": [],
   "source": [
    "personnes['Z'] = mon_ami"
   ]
  },
  {
   "cell_type": "code",
   "execution_count": 42,
   "metadata": {},
   "outputs": [
    {
     "name": "stdout",
     "output_type": "stream",
     "text": [
      "False\n"
     ]
    }
   ],
   "source": [
    "print('F' in personnes.keys())"
   ]
  },
  {
   "cell_type": "code",
   "execution_count": null,
   "metadata": {},
   "outputs": [],
   "source": []
  },
  {
   "cell_type": "code",
   "execution_count": 43,
   "metadata": {},
   "outputs": [
    {
     "ename": "KeyError",
     "evalue": "'A'",
     "output_type": "error",
     "traceback": [
      "\u001b[1;31m---------------------------------------------------------------------------\u001b[0m",
      "\u001b[1;31mKeyError\u001b[0m                                  Traceback (most recent call last)",
      "\u001b[1;32m<ipython-input-43-eb0bac21bc63>\u001b[0m in \u001b[0;36m<module>\u001b[1;34m\u001b[0m\n\u001b[1;32m----> 1\u001b[1;33m \u001b[0mpersonnes\u001b[0m\u001b[1;33m[\u001b[0m\u001b[1;34m'A'\u001b[0m\u001b[1;33m]\u001b[0m\u001b[1;33m[\u001b[0m\u001b[1;34m'Alamou'\u001b[0m\u001b[1;33m]\u001b[0m\u001b[1;33m[\u001b[0m\u001b[1;34m'age'\u001b[0m\u001b[1;33m]\u001b[0m \u001b[1;33m=\u001b[0m \u001b[1;36m20\u001b[0m\u001b[1;33m\u001b[0m\u001b[1;33m\u001b[0m\u001b[0m\n\u001b[0m\u001b[0;32m      2\u001b[0m \u001b[0mpersonnes\u001b[0m\u001b[1;33m.\u001b[0m\u001b[0mget\u001b[0m\u001b[1;33m(\u001b[0m\u001b[1;34m'A'\u001b[0m\u001b[1;33m)\u001b[0m\u001b[1;33m.\u001b[0m\u001b[0mget\u001b[0m\u001b[1;33m(\u001b[0m\u001b[1;34m'Alamou'\u001b[0m\u001b[1;33m)\u001b[0m\u001b[1;33m.\u001b[0m\u001b[0mget\u001b[0m\u001b[1;33m(\u001b[0m\u001b[1;34m'age'\u001b[0m\u001b[1;33m)\u001b[0m\u001b[1;33m\u001b[0m\u001b[1;33m\u001b[0m\u001b[0m\n",
      "\u001b[1;31mKeyError\u001b[0m: 'A'"
     ]
    }
   ],
   "source": [
    "personnes['A']['Alamou']['age'] = 20\n",
    "personnes.get('A').get('Alamou').get('age')"
   ]
  },
  {
   "cell_type": "code",
   "execution_count": 44,
   "metadata": {},
   "outputs": [
    {
     "ename": "KeyError",
     "evalue": "'A'",
     "output_type": "error",
     "traceback": [
      "\u001b[1;31m---------------------------------------------------------------------------\u001b[0m",
      "\u001b[1;31mKeyError\u001b[0m                                  Traceback (most recent call last)",
      "\u001b[1;32m<ipython-input-44-05442e4f257e>\u001b[0m in \u001b[0;36m<module>\u001b[1;34m\u001b[0m\n\u001b[1;32m----> 1\u001b[1;33m \u001b[0mpersonnes\u001b[0m\u001b[1;33m[\u001b[0m\u001b[1;34m'A'\u001b[0m\u001b[1;33m]\u001b[0m\u001b[1;33m[\u001b[0m\u001b[1;34m'Adjaz'\u001b[0m\u001b[1;33m]\u001b[0m \u001b[1;33m=\u001b[0m \u001b[1;34m\"15 Rue de Maya 75016\"\u001b[0m\u001b[1;33m\u001b[0m\u001b[1;33m\u001b[0m\u001b[0m\n\u001b[0m\u001b[0;32m      2\u001b[0m \u001b[1;31m# personnes.get('A').get('Alamou').get('age')\u001b[0m\u001b[1;33m\u001b[0m\u001b[1;33m\u001b[0m\u001b[1;33m\u001b[0m\u001b[0m\n\u001b[0;32m      3\u001b[0m \u001b[0mpersonnes\u001b[0m\u001b[1;33m\u001b[0m\u001b[1;33m\u001b[0m\u001b[0m\n",
      "\u001b[1;31mKeyError\u001b[0m: 'A'"
     ]
    }
   ],
   "source": [
    "personnes['A']['Adjaz'] = \"15 Rue de Maya 75016\"\n",
    "# personnes.get('A').get('Alamou').get('age')\n",
    "personnes"
   ]
  },
  {
   "cell_type": "code",
   "execution_count": 45,
   "metadata": {},
   "outputs": [
    {
     "name": "stdout",
     "output_type": "stream",
     "text": [
      "B {'nom': 'Bogoss', 'prenom': 'Anis', 'service': 'Cyber Hacker'}\n",
      "C {'nom': 'Chris', 'prenom': 'Blaise', 'service': 'Dev fullstack'}\n",
      "Z {'nom': 'Zann', 'prenom': 'Stone', 'numero': '0600010203'}\n"
     ]
    }
   ],
   "source": [
    "# pour chaque clé qui se trouve dans le dict personnes afficher sa valeur \n",
    "for cle in personnes.keys():\n",
    "    print(cle, personnes.get(cle))"
   ]
  },
  {
   "cell_type": "code",
   "execution_count": 46,
   "metadata": {},
   "outputs": [
    {
     "name": "stdout",
     "output_type": "stream",
     "text": [
      "B {'nom': 'Bogoss', 'prenom': 'Anis', 'service': 'Cyber Hacker'}\n",
      "C {'nom': 'Chris', 'prenom': 'Blaise', 'service': 'Dev fullstack'}\n",
      "Z {'nom': 'Zann', 'prenom': 'Stone', 'numero': '0600010203'}\n"
     ]
    }
   ],
   "source": [
    "for cle,val in personnes.items():\n",
    "    print(cle,val)"
   ]
  },
  {
   "cell_type": "code",
   "execution_count": 47,
   "metadata": {},
   "outputs": [],
   "source": [
    "for fruit in liste_fruits:\n",
    "    print(fruit)"
   ]
  },
  {
   "cell_type": "code",
   "execution_count": 48,
   "metadata": {},
   "outputs": [
    {
     "name": "stdout",
     "output_type": "stream",
     "text": [
      "il n'y a pas d'adresse\n"
     ]
    }
   ],
   "source": [
    "print(personnes.get('adresse',  \"il n'y a pas d'adresse\"))"
   ]
  },
  {
   "cell_type": "code",
   "execution_count": 49,
   "metadata": {},
   "outputs": [
    {
     "name": "stdout",
     "output_type": "stream",
     "text": [
      "{'B': {'nom': 'Bogoss', 'prenom': 'Anis', 'service': 'Cyber Hacker'}, 'C': {'nom': 'Chris', 'prenom': 'Blaise', 'service': 'Dev fullstack'}, 'Z': {'nom': 'Zann', 'prenom': 'Stone', 'numero': '0600010203'}}\n"
     ]
    }
   ],
   "source": [
    "print(personnes)"
   ]
  },
  {
   "cell_type": "code",
   "execution_count": 50,
   "metadata": {},
   "outputs": [
    {
     "name": "stdout",
     "output_type": "stream",
     "text": [
      "['B', 'C', 'Z']\n"
     ]
    }
   ],
   "source": [
    "print(list(personnes.keys()))"
   ]
  },
  {
   "cell_type": "code",
   "execution_count": 51,
   "metadata": {},
   "outputs": [
    {
     "data": {
      "text/plain": [
       "dict_items([('B', {'nom': 'Bogoss', 'prenom': 'Anis', 'service': 'Cyber Hacker'}), ('C', {'nom': 'Chris', 'prenom': 'Blaise', 'service': 'Dev fullstack'}), ('Z', {'nom': 'Zann', 'prenom': 'Stone', 'numero': '0600010203'})])"
      ]
     },
     "execution_count": 51,
     "metadata": {},
     "output_type": "execute_result"
    }
   ],
   "source": [
    "personnes.items()"
   ]
  },
  {
   "cell_type": "code",
   "execution_count": 52,
   "metadata": {},
   "outputs": [],
   "source": [
    "menu =  {\n",
    "        '1': \"Consulter les contacts\",\n",
    "        '2': \"Ajouter un contact\", \n",
    "        '3': \"Modifier un contact\", \n",
    "        '4': \"Rechercher un contact\", \n",
    "        '5': \"Supprimer un contact\", \n",
    "        '0': \"Quitter\", \n",
    "    }"
   ]
  },
  {
   "cell_type": "code",
   "execution_count": 53,
   "metadata": {},
   "outputs": [
    {
     "name": "stdout",
     "output_type": "stream",
     "text": [
      "1. Consulter les contacts\n",
      "2. Ajouter un contact\n",
      "3. Modifier un contact\n",
      "4. Rechercher un contact\n",
      "5. Supprimer un contact\n",
      "0. Quitter\n"
     ]
    }
   ],
   "source": [
    "\n",
    "for cle, val in menu.items():\n",
    "    # print(cle + val + \"test\")\n",
    "    # print(cle,  val, \"test\")\n",
    "    print(f'{cle}. {val}')"
   ]
  },
  {
   "cell_type": "code",
   "execution_count": 54,
   "metadata": {},
   "outputs": [
    {
     "name": "stdout",
     "output_type": "stream",
     "text": [
      "18\n"
     ]
    }
   ],
   "source": [
    "names = ['Adjaz', 'Alamou', 'Mynameisthelonguer']\n",
    "print(len(max(names)))"
   ]
  },
  {
   "cell_type": "code",
   "execution_count": 55,
   "metadata": {},
   "outputs": [
    {
     "ename": "SyntaxError",
     "evalue": "unexpected EOF while parsing (<ipython-input-55-c28ee0e81894>, line 4)",
     "output_type": "error",
     "traceback": [
      "\u001b[1;36m  File \u001b[1;32m\"<ipython-input-55-c28ee0e81894>\"\u001b[1;36m, line \u001b[1;32m4\u001b[0m\n\u001b[1;33m    # print(f\"{n:20} => prenom\")\u001b[0m\n\u001b[1;37m                                ^\u001b[0m\n\u001b[1;31mSyntaxError\u001b[0m\u001b[1;31m:\u001b[0m unexpected EOF while parsing\n"
     ]
    }
   ],
   "source": [
    "for n in names:\n",
    "    # print(n, '=> prenom')\n",
    "    # print(f'{n:{len(max(names))}} => prenom')\n",
    "    # print(f\"{n:20} => prenom\")"
   ]
  },
  {
   "cell_type": "code",
   "execution_count": 56,
   "metadata": {},
   "outputs": [
    {
     "data": {
      "text/plain": [
       "{}"
      ]
     },
     "execution_count": 56,
     "metadata": {},
     "output_type": "execute_result"
    }
   ],
   "source": [
    "mondict = dict()\n",
    "mondict"
   ]
  },
  {
   "cell_type": "code",
   "execution_count": 57,
   "metadata": {},
   "outputs": [
    {
     "data": {
      "text/plain": [
       "{'A': 'Alamou'}"
      ]
     },
     "execution_count": 57,
     "metadata": {},
     "output_type": "execute_result"
    }
   ],
   "source": [
    "mondict['A'] = 'Alamou'\n",
    "mondict\n"
   ]
  },
  {
   "cell_type": "code",
   "execution_count": 58,
   "metadata": {},
   "outputs": [
    {
     "data": {
      "text/plain": [
       "{'A': 'Adjaz'}"
      ]
     },
     "execution_count": 58,
     "metadata": {},
     "output_type": "execute_result"
    }
   ],
   "source": [
    "mondict['A'] = 'Adjaz'\n",
    "mondict"
   ]
  },
  {
   "cell_type": "code",
   "execution_count": 59,
   "metadata": {},
   "outputs": [
    {
     "name": "stdout",
     "output_type": "stream",
     "text": [
      "a\n",
      "b\n",
      "c\n",
      "d\n",
      "e\n",
      "f\n",
      "g\n",
      "h\n",
      "i\n",
      "j\n",
      "k\n",
      "l\n",
      "m\n",
      "n\n",
      "o\n",
      "p\n",
      "q\n",
      "r\n",
      "s\n",
      "t\n",
      "u\n",
      "v\n",
      "w\n",
      "x\n",
      "y\n",
      "z\n"
     ]
    }
   ],
   "source": [
    "import string \n",
    "\n",
    "for lettre in string.ascii_lowercase:\n",
    "     print(lettre)\n"
   ]
  },
  {
   "cell_type": "code",
   "execution_count": 60,
   "metadata": {},
   "outputs": [
    {
     "data": {
      "text/plain": [
       "{'A': None,\n",
       " 'B': None,\n",
       " 'C': None,\n",
       " 'D': None,\n",
       " 'E': None,\n",
       " 'F': None,\n",
       " 'G': None,\n",
       " 'H': None,\n",
       " 'I': None,\n",
       " 'J': None,\n",
       " 'K': None,\n",
       " 'L': None,\n",
       " 'M': None,\n",
       " 'N': None,\n",
       " 'O': None,\n",
       " 'P': None,\n",
       " 'Q': None,\n",
       " 'R': None,\n",
       " 'S': None,\n",
       " 'T': None,\n",
       " 'U': None,\n",
       " 'V': None,\n",
       " 'W': None,\n",
       " 'X': None,\n",
       " 'Y': None,\n",
       " 'Z': None}"
      ]
     },
     "execution_count": 60,
     "metadata": {},
     "output_type": "execute_result"
    }
   ],
   "source": [
    "contacts = {}\n",
    "contacts = contacts.fromkeys(string.ascii_uppercase, )\n",
    "contacts"
   ]
  },
  {
   "cell_type": "code",
   "execution_count": 61,
   "metadata": {},
   "outputs": [],
   "source": [
    "alphabet = [lettre for lettre  in string.ascii_uppercase]"
   ]
  },
  {
   "cell_type": "code",
   "execution_count": null,
   "metadata": {},
   "outputs": [],
   "source": []
  },
  {
   "cell_type": "code",
   "execution_count": 62,
   "metadata": {},
   "outputs": [
    {
     "data": {
      "text/plain": [
       "{'nom': None, 'prenom': None, 'numero': None}"
      ]
     },
     "execution_count": 62,
     "metadata": {},
     "output_type": "execute_result"
    }
   ],
   "source": [
    "personne = {}\n",
    "personne = personne.fromkeys(['nom', 'prenom', 'numero'])\n",
    "personne"
   ]
  },
  {
   "cell_type": "code",
   "execution_count": 63,
   "metadata": {},
   "outputs": [],
   "source": [
    "personne = {\n",
    "    \"nom\": \"Zann\",\n",
    "    \"prenom\": \"Stone\",\n",
    "    \"numero\": \"0600010203\"\n",
    "}\n"
   ]
  },
  {
   "cell_type": "code",
   "execution_count": 64,
   "metadata": {},
   "outputs": [
    {
     "name": "stdout",
     "output_type": "stream",
     "text": [
      "False\n"
     ]
    }
   ],
   "source": [
    "premier_char = personne.get(\"nom\")[0]\n",
    "\n",
    "print(premier_char in personne.keys())"
   ]
  },
  {
   "cell_type": "code",
   "execution_count": 65,
   "metadata": {},
   "outputs": [],
   "source": [
    "personnes = {\n",
    "\n",
    "    \"A\":{\n",
    "        \n",
    "        \"Adjaz\":{        \n",
    "            \"nom\": \"Adjaz\",\n",
    "            \"prenom\": \"Maya\",\n",
    "        }, \n",
    "        \n",
    "        \"Alamou\":{        \n",
    "            \"nom\": \"Alamou\",\n",
    "            \"prenom\": \"Mermoz\"\n",
    "        }\n",
    "    }, \n",
    "    \n",
    "    \"B\":{\n",
    "        \"Bogoss\":{\n",
    "            \"nom\": \"Bogoss\",\n",
    "            \"prenom\": \"Anis\",\n",
    "            \"service\": \"Cyber Hacker\"\n",
    "        }\n",
    "    }, \n",
    "    \n",
    "    \"C\":{\n",
    "        \"Christ\":{\n",
    "            \"nom\": \"Chris\",\n",
    "            \"prenom\": \"Blaise\",\n",
    "            \"service\": \"Dev fullstack\"\n",
    "        }\n",
    "    }\n",
    "}"
   ]
  },
  {
   "cell_type": "code",
   "execution_count": 66,
   "metadata": {},
   "outputs": [
    {
     "data": {
      "text/plain": [
       "dict_keys(['A', 'B', 'C'])"
      ]
     },
     "execution_count": 66,
     "metadata": {},
     "output_type": "execute_result"
    }
   ],
   "source": [
    "personnes.keys()"
   ]
  },
  {
   "cell_type": "code",
   "execution_count": 67,
   "metadata": {},
   "outputs": [
    {
     "name": "stdout",
     "output_type": "stream",
     "text": [
      "z\n",
      "z n'existe pas\n"
     ]
    }
   ],
   "source": [
    "ami = {\n",
    "    \"nom\": \"zann\",\n",
    "    \"prenom\": \"stone\",\n",
    "    \"numero\": \"06000\"\n",
    "}\n",
    "\n",
    "prem_char = ami.get('nom')[0]\n",
    "print(prem_char)\n",
    "if prem_char in personnes.keys():\n",
    "    print(prem_char, \"existe déjà\")\n",
    "else: \n",
    "    print(prem_char, \"n'existe pas\")\n",
    "    personnes[prem_char.upper()] = {ami.get('nom'):ami}"
   ]
  },
  {
   "cell_type": "code",
   "execution_count": 68,
   "metadata": {},
   "outputs": [
    {
     "data": {
      "text/plain": [
       "{'A': {'Adjaz': {'nom': 'Adjaz', 'prenom': 'Maya'},\n",
       "  'Alamou': {'nom': 'Alamou', 'prenom': 'Mermoz'}},\n",
       " 'B': {'Bogoss': {'nom': 'Bogoss',\n",
       "   'prenom': 'Anis',\n",
       "   'service': 'Cyber Hacker'}},\n",
       " 'C': {'Christ': {'nom': 'Chris',\n",
       "   'prenom': 'Blaise',\n",
       "   'service': 'Dev fullstack'}},\n",
       " 'Z': {'zann': {'nom': 'zann', 'prenom': 'stone', 'numero': '06000'}}}"
      ]
     },
     "execution_count": 68,
     "metadata": {},
     "output_type": "execute_result"
    }
   ],
   "source": [
    "personnes"
   ]
  },
  {
   "cell_type": "code",
   "execution_count": 69,
   "metadata": {},
   "outputs": [
    {
     "name": "stdout",
     "output_type": "stream",
     "text": [
      "Z\n"
     ]
    }
   ],
   "source": [
    "ami = {\n",
    "    \"nom\": \"Zed\",\n",
    "    \"prenom\": \"kart\",\n",
    "    \"numero\": \"06000\"\n",
    "}\n",
    "\n",
    "prem_char = ami.get('nom')[0].upper()\n",
    "print(prem_char)\n",
    "if prem_char in personnes.keys():\n",
    "    personnes[premier_char][ami.get('nom')] = ami\n",
    "else: \n",
    "    print(prem_char, \"n'existe pas\")\n",
    "    personnes[prem_char.upper()] = {ami.get('nom'):ami}"
   ]
  },
  {
   "cell_type": "code",
   "execution_count": 70,
   "metadata": {},
   "outputs": [
    {
     "data": {
      "text/plain": [
       "{'A': {'Adjaz': {'nom': 'Adjaz', 'prenom': 'Maya'},\n",
       "  'Alamou': {'nom': 'Alamou', 'prenom': 'Mermoz'}},\n",
       " 'B': {'Bogoss': {'nom': 'Bogoss',\n",
       "   'prenom': 'Anis',\n",
       "   'service': 'Cyber Hacker'}},\n",
       " 'C': {'Christ': {'nom': 'Chris',\n",
       "   'prenom': 'Blaise',\n",
       "   'service': 'Dev fullstack'}},\n",
       " 'Z': {'zann': {'nom': 'zann', 'prenom': 'stone', 'numero': '06000'},\n",
       "  'Zed': {'nom': 'Zed', 'prenom': 'kart', 'numero': '06000'}}}"
      ]
     },
     "execution_count": 70,
     "metadata": {},
     "output_type": "execute_result"
    }
   ],
   "source": [
    "personnes"
   ]
  },
  {
   "cell_type": "code",
   "execution_count": 71,
   "metadata": {},
   "outputs": [
    {
     "data": {
      "text/plain": [
       "\"c'est le weekend\""
      ]
     },
     "execution_count": 71,
     "metadata": {},
     "output_type": "execute_result"
    }
   ],
   "source": [
    "chaine = \"c'est le weekend\"\n",
    "chaine"
   ]
  },
  {
   "cell_type": "code",
   "execution_count": 72,
   "metadata": {},
   "outputs": [
    {
     "data": {
      "text/plain": [
       "\"C'Est Le Weekend\""
      ]
     },
     "execution_count": 72,
     "metadata": {},
     "output_type": "execute_result"
    }
   ],
   "source": [
    "chaine.title()"
   ]
  },
  {
   "cell_type": "code",
   "execution_count": 73,
   "metadata": {},
   "outputs": [
    {
     "data": {
      "text/plain": [
       "\"C'est le weekend\""
      ]
     },
     "execution_count": 73,
     "metadata": {},
     "output_type": "execute_result"
    }
   ],
   "source": [
    "chaine.capitalize()"
   ]
  },
  {
   "cell_type": "markdown",
   "metadata": {},
   "source": [
    "### La fonction Modifier :"
   ]
  },
  {
   "cell_type": "code",
   "execution_count": 76,
   "metadata": {},
   "outputs": [],
   "source": [
    "contacts = {\n",
    "    \n",
    "    \"A\":{\n",
    "        \n",
    "        \"Adjaz\":{        \n",
    "            \"nom\": \"Adjaz\",\n",
    "            \"prenom\": \"Maya\",\n",
    "            \"age\": 25,\n",
    "            \"hobbies\":[\"Cuisine\", \"shopping\", \"Basket\"]\n",
    "        }, \n",
    "        \n",
    "        \"Alamou\":{        \n",
    "            \"nom\": \"Alamou\",\n",
    "            \"prenom\": \"Mermoz\",\n",
    "            \"age\": 0,\n",
    "            \"hobbies\":[\"Foot\", \"shopping\", \"Python\"]\n",
    "        }\n",
    "    }, \n",
    "    \n",
    "    \"B\":{        \n",
    "        \"nom\": \"Bogoss\",\n",
    "        \"prenom\": \"Anis\",\n",
    "        \"service\": \"Cyber Hacker\"      \n",
    "    }, \n",
    "    \n",
    "    \"C\":{        \n",
    "        \"nom\": \"Chris\",\n",
    "        \"prenom\": \"Blaise\",\n",
    "        \"service\": \"Dev fullstack\"      \n",
    "    }\n",
    "}"
   ]
  },
  {
   "cell_type": "code",
   "execution_count": 84,
   "metadata": {},
   "outputs": [],
   "source": [
    "def modifier():\n",
    "    nom = input('Entrez le nom du contact que vous voulez modifier: ')\n",
    "    premier_char = nom[0]\n",
    "    if premier_char in contacts.keys():\n",
    "        if nom in contacts.get(premier_char).keys():\n",
    "             choix = input('Souhaitez vous modifier le nom ? O/n :')\n",
    "             if choix.capitalize().startswith('O'):\n",
    "                    contacts[premier_char][nom]['nom'] = input('Entrez le nouveau nom: ')\n",
    "                    choix = input('Souhaitez vous modifier le prenom ? O/n :')\n",
    "                    if choix.capitalize().startswith('O'):\n",
    "                        contacts[premier_char][nom]['prenom'] = input('Entrez le nouveau prenom: ')\n",
    "                        choix = input('Souhaitez vous modifier le numero ? O/n :')\n",
    "                        if choix.capitalize().startswith('O'):\n",
    "                            contacts[premier_char][nom]['numero'] = input('Entrez le nouveau numero: ')\n",
    "                            print(\"Modifications prises en compte.\")\n",
    "                            consulter()\n",
    "                        else:\n",
    "                            ##Cas ou on ne modifie pas le numero \n",
    "                            consulter()\n",
    "                    else:\n",
    "                        ##Cas ou on ne modifie pas le prenom \n",
    "                        if choix.capitalize().startswith('O'):\n",
    "                            contacts[premier_char][nom]['numero'] = input('Entrez le nouveau numero: ')\n",
    "                            print(\"Modifications prises en compte.\")\n",
    "                            consulter()\n",
    "                        else:\n",
    "                            consulter()\n",
    "             else:\n",
    "                    ##Cas ou on ne modifie pas le nom \n",
    "                    choix = input('Souhaitez vous modifier le prenom ? O/n :')\n",
    "                    if choix.capitalize().startswith('O'):\n",
    "                        contacts[premier_char][nom]['prenom'] = input('Entrez le nouveau prenom: ')\n",
    "                        choix = input('Souhaitez vous modifier le numero ? O/n :')\n",
    "                        if choix.capitalize().startswith('O'):\n",
    "                            contacts[premier_char][nom]['numero'] = input('Entrez le nouveau numero: ')\n",
    "                            print(\"Modifications prises en compte.\")\n",
    "                            consulter()\n",
    "                        else:\n",
    "                            consulter()\n",
    "                    else:\n",
    "                        choix = input('Souhaitez vous modifier le numero ? O/n :')\n",
    "                        if choix.capitalize().startswith('O'):\n",
    "                            contacts[premier_char][nom]['numero'] = input('Entrez le nouveau numero: ')\n",
    "                            print(\"Modifications prises en compte.\")\n",
    "                            consulter()\n",
    "                        else:\n",
    "                            consulter()\n",
    "        else:\n",
    "            print(\"Le contacte\", nom, \" est introuvable.\")\n",
    "    else:\n",
    "        print(\"Le contacte\", nom, \" est introuvable.\")\n",
    "        \n",
    "\n",
    "def consulter():\n",
    "    print(contacts)"
   ]
  },
  {
   "cell_type": "code",
   "execution_count": 86,
   "metadata": {},
   "outputs": [
    {
     "name": "stdin",
     "output_type": "stream",
     "text": [
      "Entrez le nom du contact que vous voulez modifier:  Alamou\n",
      "Souhaitez vous modifier le nom ? O/n : o\n",
      "Entrez le nouveau nom:  Abdou\n",
      "Souhaitez vous modifier le prenom ? O/n : o\n",
      "Entrez le nouveau prenom:  MELIANI\n",
      "Souhaitez vous modifier le numero ? O/n : n\n"
     ]
    },
    {
     "name": "stdout",
     "output_type": "stream",
     "text": [
      "{'A': {'Adjaz': {'nom': 'Adjaz', 'prenom': 'Maya', 'numero': 25}, 'Alamou': {'nom': 'Abdou', 'prenom': 'MELIANI', 'numero': 0}}, 'B': {'nom': 'Bogoss', 'prenom': 'Anis', 'numero': 'Cyber Hacker'}, 'C': {'nom': 'Chris', 'prenom': 'Blaise', 'numero': 'Dev fullstack'}}\n"
     ]
    }
   ],
   "source": [
    "contacts = {\n",
    "    \n",
    "    \"A\":{\n",
    "        \n",
    "        \"Adjaz\":{        \n",
    "            \"nom\": \"Adjaz\",\n",
    "            \"prenom\": \"Maya\",\n",
    "            \"numero\": 25,\n",
    "         }, \n",
    "        \n",
    "        \"Alamou\":{        \n",
    "            \"nom\": \"Alamou\",\n",
    "            \"prenom\": \"Mermoz\",\n",
    "            \"numero\": 0,\n",
    "         }\n",
    "    }, \n",
    "    \n",
    "    \"B\":{        \n",
    "        \"nom\": \"Bogoss\",\n",
    "        \"prenom\": \"Anis\",\n",
    "        \"numero\": \"Cyber Hacker\"      \n",
    "    }, \n",
    "    \n",
    "    \"C\":{        \n",
    "        \"nom\": \"Chris\",\n",
    "        \"prenom\": \"Blaise\",\n",
    "        \"numero\": \"Dev fullstack\"      \n",
    "    }\n",
    "}\n",
    "modifier()"
   ]
  },
  {
   "cell_type": "code",
   "execution_count": null,
   "metadata": {},
   "outputs": [],
   "source": []
  }
 ],
 "metadata": {
  "kernelspec": {
   "display_name": "Python 3",
   "language": "python",
   "name": "python3"
  },
  "language_info": {
   "codemirror_mode": {
    "name": "ipython",
    "version": 3
   },
   "file_extension": ".py",
   "mimetype": "text/x-python",
   "name": "python",
   "nbconvert_exporter": "python",
   "pygments_lexer": "ipython3",
   "version": "3.7.6"
  }
 },
 "nbformat": 4,
 "nbformat_minor": 4
}
