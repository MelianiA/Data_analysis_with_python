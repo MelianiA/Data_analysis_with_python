{
 "metadata": {
  "language_info": {
   "codemirror_mode": {
    "name": "ipython",
    "version": 3
   },
   "file_extension": ".py",
   "mimetype": "text/x-python",
   "name": "python",
   "nbconvert_exporter": "python",
   "pygments_lexer": "ipython3",
   "version": "3.7.6-final"
  },
  "orig_nbformat": 2,
  "kernelspec": {
   "name": "python3",
   "display_name": "Python 3"
  }
 },
 "nbformat": 4,
 "nbformat_minor": 2,
 "cells": [
  {
   "cell_type": "code",
   "execution_count": 1,
   "metadata": {},
   "outputs": [],
   "source": [
    "# Solution:\n",
    "class Compte:\n",
    "    Nom=\"\"\n",
    "    Prenom=\"\"\n",
    "    Solde_initial = 50\n",
    "    Solde=Solde_initial\n",
    "    Decouvert_autorisee = 100\n",
    "    Max_compte = 5000\n",
    "    \n",
    "    def __init__(self,n,p,s):\n",
    "        self.Nom=n\n",
    "        self.Prenom=p\n",
    "        self.Solde=s\n",
    "    \n",
    "    def Consulter_le_solde(self):\n",
    "        return print(self.Nom+\" \"+self.Prenom,\"=> cous avez : \",self.Solde,\" euros dans votre compte.\")\n",
    "    \n",
    "    def Crediter_le_compte(self,montant):\n",
    "        if(self.Solde + montant <= self.Max_compte):\n",
    "            self.Solde =self.self.Solde + montant\n",
    "            return True\n",
    "        else:\n",
    "            return False\n",
    "        \n",
    "    def Debiter_le_compte(self,montant):\n",
    "         if(self.Solde - montant >= self.Solde_initial):\n",
    "            self.Solde =self.Solde - montant\n",
    "            return True\n",
    "         else:\n",
    "            return False"
   ]
  },
  {
   "cell_type": "code",
   "execution_count": 2,
   "metadata": {},
   "outputs": [
    {
     "output_type": "stream",
     "name": "stdout",
     "text": [
      "Menu de votre compte : \n 1. consulter le solde  \n 2. Créditer le compte\n 3. Débiter le compte\n 4. Quitter l'appli \n\n"
     ]
    }
   ],
   "source": [
    "compte = Compte(\"Abdou\",\"MELIANI\", 500)\n",
    "print(\"Menu de votre compte : \\n 1. consulter le solde  \\n 2. Créditer le compte\\n 3. Débiter le compte\\n 4. Quitter l'appli \\n\")\n"
   ]
  },
  {
   "cell_type": "code",
   "execution_count": null,
   "metadata": {},
   "outputs": [],
   "source": [
    "# Solution\n",
    "class Compte(object):\n",
    "    Nom = \"\"\n",
    "    Prenom = \"\"\n",
    "    Solde_initial = 50\n",
    "    Solde = Solde_initial\n",
    "    Decouvert_autorisee = 100\n",
    "    Max_compte = 5000\n",
    "\n",
    "    def __init__(self, n, p, s):\n",
    "        self.Nom = n\n",
    "        self.Prenom = p\n",
    "        self.Solde = s\n",
    "\n",
    "    def Consulter_le_solde(self):\n",
    "        return print(self.Nom + \" \" + self.Prenom, \"=> vous avez : \", self.Solde, \" euros dans votre compte.\")\n",
    "\n",
    "    def Crediter_le_compte(self, montant):\n",
    "        if self.Solde + montant <= self.Max_compte:\n",
    "            self.Solde = self.Solde + montant\n",
    "            return True\n",
    "        else:\n",
    "            return False\n",
    "\n",
    "    def Debiter_le_compte(self, montant):\n",
    "        if self.Solde - montant >= -100:\n",
    "            print(\"Vous avez dépassé découvert !\")\n",
    "            self.Solde = self.Solde - montant\n",
    "            return True\n",
    "        else:\n",
    "            return False\n",
    "\n",
    "\n",
    "if __name__ == \"__main__\":\n",
    "    compte = Compte(\"Abdou\", \"MELIANI\", 500)\n",
    "    print(\"Menu de votre compte : \\n 1. consulter le solde  \\n 2. Créditer le compte\\n 3. Débiter le compte\\n 4. Quitter l'appli \\n\")\n",
    "    scan = int(input(\"Choississez un nombre :\"))\n",
    "    while scan != 4:\n",
    "        if scan == 1:\n",
    "            compte.Consulter_le_solde()\n",
    "        if scan == 2:\n",
    "            montant = int(input(\"Entrez le montant que vous voulez créditer : \"))\n",
    "            compte.Crediter_le_compte(montant)\n",
    "            compte.Consulter_le_solde()\n",
    "        if scan == 3:\n",
    "            montant = int(input(\"Entrez le montant que vous voulez débiter : \"))\n",
    "            compte.Debiter_le_compte(montant)\n",
    "            compte.Consulter_le_solde()\n",
    "        scan = int(input(\"Choississez un nombre SVP:\"))\n",
    "    if scan == 4:\n",
    "        print(\"à bientot !\")"
   ]
  },
  {
   "cell_type": "code",
   "execution_count": null,
   "metadata": {},
   "outputs": [],
   "source": []
  }
 ]
}