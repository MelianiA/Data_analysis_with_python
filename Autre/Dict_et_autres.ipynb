{
 "cells": [
  {
   "cell_type": "code",
   "execution_count": 1,
   "metadata": {},
   "outputs": [],
   "source": [
    "personnes={\n",
    "    'pers1':{\n",
    "        'Nom':\"aaa\",\n",
    "        'Prenom':\"bbb\",\n",
    "        'Age':14\n",
    "    },\n",
    "      'pers2':{\n",
    "        'Nom':\"ccc\",\n",
    "        'Prenom':\"ddd\",\n",
    "        'Age':15\n",
    "    },\n",
    "      'pers3':{\n",
    "        'Nom':\"eee\",\n",
    "        'Prenom':\"fff\",\n",
    "        'Age':14\n",
    "    } \n",
    "}"
   ]
  },
  {
   "cell_type": "code",
   "execution_count": 2,
   "metadata": {},
   "outputs": [
    {
     "data": {
      "text/plain": [
       "{'pers1': {'Nom': 'aaa', 'Prenom': 'bbb', 'Age': 14},\n",
       " 'pers2': {'Nom': 'abdou', 'Prenom': 'ddd', 'Age': 15},\n",
       " 'pers3': {'Nom': 'eee', 'Prenom': 'fff', 'Age': 14}}"
      ]
     },
     "execution_count": 2,
     "metadata": {},
     "output_type": "execute_result"
    }
   ],
   "source": [
    "personnes['pers2']['Nom']=\"abdou\"\n",
    "personnes"
   ]
  },
  {
   "cell_type": "code",
   "execution_count": 6,
   "metadata": {},
   "outputs": [],
   "source": [
    "contact=dict()"
   ]
  },
  {
   "cell_type": "code",
   "execution_count": null,
   "metadata": {},
   "outputs": [],
   "source": []
  }
 ],
 "metadata": {
  "kernelspec": {
   "display_name": "Python 3",
   "language": "python",
   "name": "python3"
  },
  "language_info": {
   "codemirror_mode": {
    "name": "ipython",
    "version": 3
   },
   "file_extension": ".py",
   "mimetype": "text/x-python",
   "name": "python",
   "nbconvert_exporter": "python",
   "pygments_lexer": "ipython3",
   "version": "3.7.6"
  }
 },
 "nbformat": 4,
 "nbformat_minor": 4
}
