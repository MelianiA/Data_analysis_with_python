{
 "cells": [
  {
   "cell_type": "markdown",
   "metadata": {},
   "source": [
    "### Introduction au dataset"
   ]
  },
  {
   "cell_type": "code",
   "execution_count": 2,
   "metadata": {},
   "outputs": [],
   "source": [
    "import pandas as pd\n",
    "data = pd.read_csv(\"C:/Users/abdou/training_dataS/Data/fandango_scores.csv\")"
   ]
  },
  {
   "cell_type": "code",
   "execution_count": 3,
   "metadata": {},
   "outputs": [],
   "source": [
    "norm_reviews_columns =[\"FILM\", \"RT_user_norm\", \"Metacritic_user_nom\",\"IMDB_norm\",\"Fandango_Ratingvalue\",\"Fandango_Stars\"]\n",
    "norm_reviews= data[norm_reviews_columns]"
   ]
  },
  {
   "cell_type": "markdown",
   "metadata": {},
   "source": [
    "### Diagramme en barres"
   ]
  },
  {
   "cell_type": "code",
   "execution_count": 4,
   "metadata": {},
   "outputs": [],
   "source": [
    "#plt.bar()\n",
    "#axes.bar()"
   ]
  },
  {
   "cell_type": "code",
   "execution_count": 5,
   "metadata": {},
   "outputs": [],
   "source": [
    "import matplotlib.pyplot as plt"
   ]
  },
  {
   "cell_type": "code",
   "execution_count": 6,
   "metadata": {},
   "outputs": [],
   "source": [
    "#Axes.bar(left, height)\n",
    "#np.arrange()"
   ]
  },
  {
   "cell_type": "code",
   "execution_count": 7,
   "metadata": {},
   "outputs": [],
   "source": [
    "#position du coté gauche de chaque barre ==> [1,2,3,4,5]\n",
    "from numpy import arange \n",
    "#Hauteur des barres. On choisit la moyenne des notes du premier film de notre dataset\n",
    "num_cols = ['RT_user_norm', 'Metacritic_user_nom', 'IMDB_norm', 'Fandango_Ratingvalue', 'Fandango_Stars']\n",
    "bar_heights = norm_reviews[num_cols].iloc[0].values\n",
    "bar_positions = arange(5) + 1"
   ]
  },
  {
   "cell_type": "code",
   "execution_count": 8,
   "metadata": {},
   "outputs": [
    {
     "data": {
      "image/png": "[encoded data removed]",
      "text/plain": [
       "<Figure size 432x288 with 1 Axes>"
      ]
     },
     "metadata": {
      "needs_background": "light"
     },
     "output_type": "display_data"
    }
   ],
   "source": [
    "fig, ax = plt.subplots()\n",
    "ax.bar(bar_positions, bar_heights  )\n",
    "plt.show()"
   ]
  },
  {
   "cell_type": "markdown",
   "metadata": {},
   "source": [
    "Créer un sous-graphique et assigner l'objet Figure à la variable fig et l'objet Axes à la variable ax.\n",
    "\n",
    "Générer un diagramme en barre avec:\n",
    "\n",
    "        left définie par bar_positions qui doit prendre les valeurs 1,2,3,4 et 5\n",
    "        height définie par bar_heights qui doit prendre les 5 colonnes qui nous intéressent\n",
    "        width fixé à 0.5\n",
    "Utiliser plt.show() pour afficher le diagramme en barre."
   ]
  },
  {
   "cell_type": "code",
   "execution_count": 9,
   "metadata": {},
   "outputs": [
    {
     "data": {
      "image/png": "[encoded data removed]",
      "text/plain": [
       "<Figure size 432x288 with 1 Axes>"
      ]
     },
     "metadata": {
      "needs_background": "light"
     },
     "output_type": "display_data"
    }
   ],
   "source": [
    "import matplotlib.pyplot as plt\n",
    "fig, ax = plt.subplots()\n",
    "bar_heights = norm_reviews[num_cols].iloc[0].values\n",
    "bar_positions = arange(5) + 1\n",
    "num_cols = ['RT_user_norm', 'Metacritic_user_nom', 'IMDB_norm', 'Fandango_Ratingvalue', 'Fandango_Stars']\n",
    "ax.bar(bar_positions, bar_heights,0.5  )\n",
    "plt.show()"
   ]
  },
  {
   "cell_type": "markdown",
   "metadata": {},
   "source": [
    "### Aligner l'intitulé et le trait sur l'axe x\n"
   ]
  },
  {
   "cell_type": "code",
   "execution_count": 10,
   "metadata": {},
   "outputs": [
    {
     "data": {
      "text/plain": [
       "[<matplotlib.axis.XTick at 0x1ca7498bec8>,\n",
       " <matplotlib.axis.XTick at 0x1ca75123b08>,\n",
       " <matplotlib.axis.XTick at 0x1ca751312c8>,\n",
       " <matplotlib.axis.XTick at 0x1ca7515a588>,\n",
       " <matplotlib.axis.XTick at 0x1ca7515a988>]"
      ]
     },
     "execution_count": 10,
     "metadata": {},
     "output_type": "execute_result"
    }
   ],
   "source": [
    "#Axes.set_xticks()\n",
    "tick_position=range(1,6)\n",
    "ax.set_xticks(tick_position)"
   ]
  },
  {
   "cell_type": "code",
   "execution_count": 11,
   "metadata": {},
   "outputs": [],
   "source": [
    "#Axes.set_xticklabels()"
   ]
  },
  {
   "cell_type": "code",
   "execution_count": 13,
   "metadata": {},
   "outputs": [
    {
     "data": {
      "text/plain": [
       "[Text(0.0, 0, 'RT_user_norm'),\n",
       " Text(1.0, 0, 'Metacritic_user_nom'),\n",
       " Text(2.0, 0, 'IMDB_norm'),\n",
       " Text(3.0, 0, 'Fandango_Ratingvalue'),\n",
       " Text(4.0, 0, 'Fandango_Stars')]"
      ]
     },
     "execution_count": 13,
     "metadata": {},
     "output_type": "execute_result"
    }
   ],
   "source": [
    "num_cols = ['RT_user_norm', 'Metacritic_user_nom', 'IMDB_norm', 'Fandango_Ratingvalue', 'Fandango_Stars']\n",
    "ax.set_xticklabels(num_cols, rotation=90)"
   ]
  },
  {
   "cell_type": "markdown",
   "metadata": {},
   "source": [
    "- Créer un sous-graphique et assigner l'objet Figure à la variable fig et l'objet Axes à la variable ax.\n",
    "- Générer un diagramme en barre avec:\n",
    ">- left définie par bar_positions qui doit prendre les valeurs 1, 2, 3, 4 et 5\n",
    ">- height définie par bar_heights qui doit prendre les 5 colonnes qui nous intéressent\n",
    ">- width fixé à 0.5\n",
    "- Placer les 5 traits correspondant aux barres.\n",
    "- Placer les intitulés de num_cols et faire une rotation de 90 degrés.\n",
    "- Définir l'axe x par 'Sources de notation'.\n",
    "- Définir l'axe y par 'Note moyenne'.\n",
    "- Définir le titre par 'Moyenne des notes utilisateurs pour le film Avengers: Age of Ultron (2015'.\n",
    "- Utiliser plt.show() pour afficher le diagramme."
   ]
  },
  {
   "cell_type": "code",
   "execution_count": 23,
   "metadata": {},
   "outputs": [
    {
     "data": {
      "image/png": "[encoded data removed]",
      "text/plain": [
       "<Figure size 432x288 with 1 Axes>"
      ]
     },
     "metadata": {
      "needs_background": "light"
     },
     "output_type": "display_data"
    }
   ],
   "source": [
    "#Solution :\n",
    "\n",
    "num_cols = ['RT_user_norm', 'Metacritic_user_nom', 'IMDB_norm', 'Fandango_Ratingvalue', 'Fandango_Stars']\n",
    "bar_heights = norm_reviews[num_cols].iloc[0].values \n",
    "bar_positions = arange(5) + 1\n",
    "#Placer les 5 traits correspondant aux barres\n",
    "tick_positions = range(1,6)\n",
    "\n",
    "fig, ax = plt.subplots()\n",
    "ax.bar(bar_positions, bar_heights,0.5 )\n",
    "ax.set_xticks(tick_positions)\n",
    "#Placer les intitulés de num_cols et faire une rotation de 90 degrés\n",
    "ax.set_xticklabels(num_cols,rotation=90)\n",
    "#Définir l'axe x par 'Sources de notation'.\n",
    "ax.set_xlabel(\"Source de notation\")\n",
    "#Définir l'axe y par 'Note moyenne'.\n",
    "ax.set_ylabel(\"Note moyenne\")\n",
    "#Définir le titre par 'Moyenne des notes utilisateurs pour le film Avengers: Age of Ultron (2015)'.\n",
    "ax.set_title(\"Moyenne des notes utilisateurs pour le film Avengers: Age of Ulron (2015)\")\n",
    "\n",
    "plt.show()"
   ]
  },
  {
   "cell_type": "markdown",
   "metadata": {},
   "source": [
    "### Diagramme en barres horizontales"
   ]
  },
  {
   "cell_type": "code",
   "execution_count": 24,
   "metadata": {},
   "outputs": [],
   "source": [
    "#Axes.barh(bottom, width)"
   ]
  },
  {
   "cell_type": "code",
   "execution_count": 25,
   "metadata": {},
   "outputs": [
    {
     "data": {
      "text/plain": [
       "<BarContainer object of 5 artists>"
      ]
     },
     "execution_count": 25,
     "metadata": {},
     "output_type": "execute_result"
    }
   ],
   "source": [
    "bar_widths=  norm_reviews[num_cols].iloc[0].values \n",
    "bar_positions = arange(5) + 1\n",
    "ax.barh(bar_positions, bar_widths, 0.5)"
   ]
  },
  {
   "cell_type": "code",
   "execution_count": 27,
   "metadata": {},
   "outputs": [],
   "source": [
    "#Axes.set_yticks()\n",
    "#Axes.set_yticklabels()"
   ]
  },
  {
   "cell_type": "code",
   "execution_count": 28,
   "metadata": {},
   "outputs": [
    {
     "data": {
      "text/plain": [
       "[Text(0, 0.0, 'RT_user_norm'),\n",
       " Text(0, 1.0, 'Metacritic_user_nom'),\n",
       " Text(0, 2.0, 'IMDB_norm'),\n",
       " Text(0, 3.0, 'Fandango_Ratingvalue'),\n",
       " Text(0, 4.0, 'Fandango_Stars')]"
      ]
     },
     "execution_count": 28,
     "metadata": {},
     "output_type": "execute_result"
    }
   ],
   "source": [
    "tick_position = range(6)\n",
    "ax.set_yticks(tick_position)\n",
    "ax.set_yticklabels(num_cols)"
   ]
  },
  {
   "cell_type": "markdown",
   "metadata": {},
   "source": [
    "- Créer un sous-graphique et assigner l'objet Figure à la variable fig et l'objet Axes à la variable ax.\n",
    "- Générer un diagramme en barres avec:\n",
    ">- bottom pour les positions bar_positions\n",
    ">- width pour la largeur des barres bar_widths\n",
    ">- height fixé à 0.5\n",
    "- Placer les 5 traits correspondants aux barres sur l'axe y.\n",
    "- Placer les intitulés de num_cols.\n",
    "- Définir l'axe y par 'Sources de notes'.\n",
    "- Définir l'axe x par 'Note moyenne'.\n",
    "- définir le titre par 'Note moyenne utilisateurs pour le film Avengers: Age of Ultron (2015)'.\n",
    "- Utiliser plt.show() pour afficher le diagramme en barre."
   ]
  },
  {
   "cell_type": "code",
   "execution_count": 30,
   "metadata": {},
   "outputs": [
    {
     "data": {
      "image/png": "[encoded data removed]",
      "text/plain": [
       "<Figure size 432x288 with 1 Axes>"
      ]
     },
     "metadata": {
      "needs_background": "light"
     },
     "output_type": "display_data"
    }
   ],
   "source": [
    "#Solution :\n",
    "\n",
    "num_cols = ['RT_user_norm', 'Metacritic_user_nom', 'IMDB_norm', 'Fandango_Ratingvalue', 'Fandango_Stars']\n",
    "bar_widths = norm_reviews[num_cols].iloc[0].values \n",
    "bar_positions = arange(5) + 1\n",
    "#Placer les 5 traits correspondant aux barres\n",
    "tick_positions = range(1,6)\n",
    "\n",
    "fig, ax = plt.subplots()\n",
    "ax.barh(bar_positions, bar_heights,0.5 )\n",
    "ax.set_yticks(tick_positions)\n",
    "#Placer les intitulés de num_cols et faire une rotation de 90 degrés\n",
    "ax.set_yticklabels(num_cols)\n",
    "#Définir l'axe x par 'Sources de notation'.\n",
    "ax.set_ylabel(\"Source de notes\")\n",
    "#Définir l'axe y par 'Note moyenne'.\n",
    "ax.set_xlabel(\"Note moyenne\")\n",
    "#Définir le titre par 'Moyenne des notes utilisateurs pour le film Avengers: Age of Ultron (2015)'.\n",
    "ax.set_title(\"Moyenne des notes utilisateurs pour le film Avengers: Age of Ulron (2015)\")\n",
    "\n",
    "plt.show()"
   ]
  },
  {
   "cell_type": "markdown",
   "metadata": {},
   "source": [
    "### Graphique à nuage de points"
   ]
  },
  {
   "cell_type": "code",
   "execution_count": 31,
   "metadata": {},
   "outputs": [],
   "source": [
    "#Si les points sont réunis, on parle d'une forte corrélation."
   ]
  },
  {
   "cell_type": "code",
   "execution_count": 32,
   "metadata": {},
   "outputs": [],
   "source": [
    "#Axes.scatter(x,y)"
   ]
  },
  {
   "cell_type": "markdown",
   "metadata": {},
   "source": [
    "- Créer un sous-graphique et assigner l'objet Figure à la variable fig et l'objet Axes à la variable ax.\n",
    "- Générer un graphique à nuage de points avec la colonne 'Fandango_Ratingvalue' sur l'axe x et et la colonne 'RT_user_norm' pour l'axe y.\n",
    "- Définir pour l'axe x 'Fandango' et 'Rotten Tomatoes' pour l'axe y.\n",
    "- Afficher le graphique résultant."
   ]
  },
  {
   "cell_type": "code",
   "execution_count": 51,
   "metadata": {},
   "outputs": [
    {
     "data": {
      "image/png": "[encoded data removed]",
      "text/plain": [
       "<Figure size 432x288 with 1 Axes>"
      ]
     },
     "metadata": {
      "needs_background": "light"
     },
     "output_type": "display_data"
    }
   ],
   "source": [
    "fig, ax = plt.subplots() #Important !! tjr fig en premier !!\n",
    "\n",
    "Fandango_Ratingvalue = norm_reviews['Fandango_Ratingvalue']\n",
    "RT_user_norm= norm_reviews['RT_user_norm']\n",
    "ax.scatter(Fandango_Ratingvalue,RT_user_norm )\n",
    " \n",
    "ax.set_xlabel(\"Fandango\")\n",
    "ax.set_ylabel('Rotten Tomatoes')\n",
    "plt.show()\n"
   ]
  },
  {
   "cell_type": "markdown",
   "metadata": {},
   "source": [
    "Le graphique indique une corrélation positive et faible "
   ]
  },
  {
   "cell_type": "markdown",
   "metadata": {},
   "source": [
    "### Intervertir les axes"
   ]
  },
  {
   "cell_type": "markdown",
   "metadata": {},
   "source": [
    "- Pour le sous-graphique associé à la variable ax1.\n",
    ">- Générer un graphique à nuage de points avec la colonne 'Fandango_Ratingvalue' sur l'axe x et la colonne 'RT_user_norm' sur l'axe y\n",
    ">- Définir pour l'axe x 'Fandango' et pour l'axe y 'Rotten Tomatoes'\n",
    "- Pour le sous-graphique associé à la variable ax2.\n",
    ">- Générer un graphique à nuage de points avec la colonne 'RT_user_norm' sur l'axe x et la colonne 'Fandango_Ratingvalue' sur l'axe y\n",
    ">- Définir pour l'axe x 'Rotten Tomatoes' et pour l'axe y 'fandango'\n",
    "- Afficher le graphique résultant."
   ]
  },
  {
   "cell_type": "code",
   "execution_count": 54,
   "metadata": {},
   "outputs": [
    {
     "data": {
      "image/png": "[encoded data removed]",
      "text/plain": [
       "<Figure size 360x720 with 2 Axes>"
      ]
     },
     "metadata": {
      "needs_background": "light"
     },
     "output_type": "display_data"
    }
   ],
   "source": [
    "fig = plt.figure(figsize=(5,10)) \n",
    "ax1 = fig.add_subplot(2,1,1)\n",
    "ax2 = fig.add_subplot(2,1,2)\n",
    "\n",
    "#Sous-graphoque1 : \n",
    "Fandango_Ratingvalue = norm_reviews['Fandango_Ratingvalue']\n",
    "RT_user_norm= norm_reviews['RT_user_norm']\n",
    "ax1.scatter(Fandango_Ratingvalue,RT_user_norm )\n",
    "ax1.set_xlabel(\"Fandango\")\n",
    "ax1.set_ylabel('Rotten Tomatoes')\n",
    "#Sous-graphoque2 :\n",
    "ax2.scatter( RT_user_norm,Fandango_Ratingvalue )\n",
    "ax2.set_ylabel(\"Fandango\")\n",
    "ax2.set_xlabel('Rotten Tomatoes')\n",
    "\n",
    "plt.show()"
   ]
  },
  {
   "cell_type": "markdown",
   "metadata": {},
   "source": [
    "On remarque que le second graphique est un miroir du premier "
   ]
  },
  {
   "cell_type": "markdown",
   "metadata": {},
   "source": [
    "### Comparaison de corrélations"
   ]
  },
  {
   "cell_type": "code",
   "execution_count": 55,
   "metadata": {},
   "outputs": [],
   "source": [
    "# meme variation sur l\"axe X et Y :\n",
    "#axes.set_xlim()\n",
    "#axes.set_ylim()"
   ]
  },
  {
   "cell_type": "code",
   "execution_count": 57,
   "metadata": {},
   "outputs": [
    {
     "data": {
      "text/plain": [
       "(0, 5)"
      ]
     },
     "execution_count": 57,
     "metadata": {},
     "output_type": "execute_result"
    }
   ],
   "source": [
    "ax.set_xlim(0,5)\n",
    "ax.set_ylim(0,5)"
   ]
  },
  {
   "cell_type": "code",
   "execution_count": 58,
   "metadata": {},
   "outputs": [
    {
     "data": {
      "text/plain": [
       "(4, 5)"
      ]
     },
     "execution_count": 58,
     "metadata": {},
     "output_type": "execute_result"
    }
   ],
   "source": [
    "ax.set_xlim(4,5)\n",
    "ax.set_ylim(4,5)"
   ]
  },
  {
   "cell_type": "markdown",
   "metadata": {},
   "source": [
    "Tracer un graphiques avec 3 sous-graphiques:\n",
    "- Pour le sous-graphique associé à la variable ax1:\n",
    ">- Générer un graphique à nuage de points avec la colonne 'Fandango_Ratingvalue' sur l'axe x et la colonne 'RT_user_norm' sur l'axe y\n",
    ">- Définir pour l'axe x 'Fandango' et pour l'axe y 'Rotten Tomatoes'\n",
    ">- Définir les limites des axes x et y en les fixant de 0 à 5\n",
    "- Pour le sous-graphique associé à la variable ax2:\n",
    ">- Générer un graphique à nuage de points avec la colonne 'Fandango_Ratingvalue' sur l'axe x et la colonne 'Metacritic_user_nom' sur l'axe y\n",
    ">- Définir pour l'axe x 'Fandango' et pour l'axe y 'Metacritic'\n",
    ">- Définir les limites des axes x et y en les fixant de 0 à 5\n",
    "- Pour le sous-graphique associé à la variable ax3:\n",
    ">- Générer un graphique à nuage de points avec la colonne 'Fandango_Ratingvalue' sur l'axe x et la colonne 'IMDB_norm' sur l'axe y\n",
    ">- Définir pour l'axe x 'Fandango' et pour l'axe y 'IMDB'\n",
    ">- Définir les limites des axes x et y en les fixant de 0 à 5\n",
    "- Afficher le graphique."
   ]
  },
  {
   "cell_type": "code",
   "execution_count": 60,
   "metadata": {},
   "outputs": [
    {
     "data": {
      "image/png": "[encoded data removed]",
      "text/plain": [
       "<Figure size 360x720 with 3 Axes>"
      ]
     },
     "metadata": {
      "needs_background": "light"
     },
     "output_type": "display_data"
    }
   ],
   "source": [
    "fig = plt.figure(figsize=(5,10)) \n",
    "ax1 = fig.add_subplot(3,1,1)\n",
    "ax2 = fig.add_subplot(3,1,2)\n",
    "ax3 = fig.add_subplot(3,1,3)\n",
    "\n",
    "\n",
    "#Sous-graphoque1 : \n",
    "Fandango_Ratingvalue = norm_reviews['Fandango_Ratingvalue']\n",
    "RT_user_norm= norm_reviews['RT_user_norm']\n",
    "ax1.set_xlim(0,5)\n",
    "ax1.set_ylim(0,5)\n",
    "ax1.scatter(Fandango_Ratingvalue,RT_user_norm )\n",
    "ax1.set_xlabel(\"Fandango\")\n",
    "ax1.set_ylabel('Rotten Tomatoes')\n",
    "\n",
    "#Sous-graphoque2 :\n",
    "Fandango_Ratingvalue = norm_reviews['Fandango_Ratingvalue']\n",
    "Metacritic_user_nom= norm_reviews['Metacritic_user_nom']\n",
    "ax2.set_xlim(0,5)\n",
    "ax2.set_ylim(0,5)\n",
    "ax2.scatter(Fandango_Ratingvalue,Metacritic_user_nom )\n",
    "ax2.set_ylabel(\"Metacritic\")\n",
    "ax2.set_xlabel('Fandango')\n",
    "\n",
    "#Sous-graphoque3 :\n",
    "Fandango_Ratingvalue = norm_reviews['Fandango_Ratingvalue']\n",
    "IMDB_norm= norm_reviews['IMDB_norm']\n",
    "ax3.set_xlim(0,5)\n",
    "ax3.set_ylim(0,5)\n",
    "ax3.scatter(Fandango_Ratingvalue,IMDB_norm )\n",
    "ax3.set_ylabel(\"IMDB\")\n",
    "ax3.set_xlabel('Fandango')\n",
    "\n",
    "plt.show()"
   ]
  }
 ],
 "metadata": {
  "kernelspec": {
   "display_name": "Python 3",
   "language": "python",
   "name": "python3"
  },
  "language_info": {
   "codemirror_mode": {
    "name": "ipython",
    "version": 3
   },
   "file_extension": ".py",
   "mimetype": "text/x-python",
   "name": "python",
   "nbconvert_exporter": "python",
   "pygments_lexer": "ipython3",
   "version": "3.7.6"
  }
 },
 "nbformat": 4,
 "nbformat_minor": 4
}
