{
 "cells": [
  {
   "cell_type": "code",
   "execution_count": 17,
   "metadata": {},
   "outputs": [],
   "source": [
    "import numpy as np\n",
    "world_alcohol = np.genfromtxt(\"original.csv\",delimiter=\",\",dtype=\"U75\"  )\n",
    "world_alcohol\n",
    "df = np.genfromtxt(\"original.csv\",delimiter=\",\",skip_header=1 )\n"
   ]
  },
  {
   "cell_type": "code",
   "execution_count": 15,
   "metadata": {},
   "outputs": [
    {
     "data": {
      "text/plain": [
       "dtype('float64')"
      ]
     },
     "execution_count": 15,
     "metadata": {},
     "output_type": "execute_result"
    }
   ],
   "source": [
    "df.dtype"
   ]
  },
  {
   "cell_type": "markdown",
   "metadata": {},
   "source": [
    "Comparaison :\n"
   ]
  },
  {
   "cell_type": "code",
   "execution_count": 3,
   "metadata": {},
   "outputs": [],
   "source": [
    "vector = np.array([5,10,6,20])"
   ]
  },
  {
   "cell_type": "code",
   "execution_count": 4,
   "metadata": {},
   "outputs": [
    {
     "data": {
      "text/plain": [
       "array([False,  True, False, False])"
      ]
     },
     "execution_count": 4,
     "metadata": {},
     "output_type": "execute_result"
    }
   ],
   "source": [
    "vector ==10"
   ]
  },
  {
   "cell_type": "code",
   "execution_count": 7,
   "metadata": {},
   "outputs": [
    {
     "data": {
      "text/plain": [
       "array([[ 5, 10, 15],\n",
       "       [20, 25, 30],\n",
       "       [35, 40, 45]])"
      ]
     },
     "execution_count": 7,
     "metadata": {},
     "output_type": "execute_result"
    }
   ],
   "source": [
    "matrix = np.array([[5,10,15],[20,25,30],[35,40,45]])\n",
    "matrix"
   ]
  },
  {
   "cell_type": "code",
   "execution_count": 6,
   "metadata": {},
   "outputs": [
    {
     "data": {
      "text/plain": [
       "array([[False, False, False],\n",
       "       [False,  True, False],\n",
       "       [False, False, False]])"
      ]
     },
     "execution_count": 6,
     "metadata": {},
     "output_type": "execute_result"
    }
   ],
   "source": [
    "matrix == 25"
   ]
  },
  {
   "cell_type": "code",
   "execution_count": 21,
   "metadata": {},
   "outputs": [
    {
     "data": {
      "text/plain": [
       "array([False, False, False, ..., False, False, False])"
      ]
     },
     "execution_count": 21,
     "metadata": {},
     "output_type": "execute_result"
    }
   ],
   "source": [
    " #la 3e colonne : \n",
    "contries_canada=world_alcohol[:,2]==\"Canada\"\n",
    "contries_canada"
   ]
  },
  {
   "cell_type": "code",
   "execution_count": 22,
   "metadata": {},
   "outputs": [
    {
     "data": {
      "text/plain": [
       "array([False, False, False, ..., False, False, False])"
      ]
     },
     "execution_count": 22,
     "metadata": {},
     "output_type": "execute_result"
    }
   ],
   "source": [
    "years_1984=world_alcohol[:,0]==\"1984\"\n",
    "years_1984"
   ]
  },
  {
   "cell_type": "markdown",
   "metadata": {},
   "source": [
    " Sélectionner des éléments"
   ]
  },
  {
   "cell_type": "code",
   "execution_count": 6,
   "metadata": {},
   "outputs": [
    {
     "name": "stdout",
     "output_type": "stream",
     "text": [
      "[10]\n"
     ]
    },
    {
     "data": {
      "text/plain": [
       "array([ 5, 10,  6, 20])"
      ]
     },
     "execution_count": 6,
     "metadata": {},
     "output_type": "execute_result"
    }
   ],
   "source": [
    "vector = np.array([5,10,6,20])\n",
    "equal_to_ten = (vector ==10)\n",
    "print(vector[equal_to_ten])\n",
    "vector"
   ]
  },
  {
   "cell_type": "markdown",
   "metadata": {},
   "source": [
    "On affiche uniquement les champs qui contiennent notre condition (selection )"
   ]
  },
  {
   "cell_type": "code",
   "execution_count": 24,
   "metadata": {},
   "outputs": [
    {
     "name": "stdout",
     "output_type": "stream",
     "text": [
      "[[20 25 30]]\n"
     ]
    }
   ],
   "source": [
    "matrix = np.array([[5,10,15],[20,25,30],[35,40,45]])\n",
    "second_column_25= (matrix[:,1]==25)\n",
    "print(matrix[second_column_25,:])"
   ]
  },
  {
   "cell_type": "markdown",
   "metadata": {},
   "source": [
    "On retourne la ligne qui contient 25 dans la premiere colonne de la matrice "
   ]
  },
  {
   "cell_type": "code",
   "execution_count": 29,
   "metadata": {},
   "outputs": [],
   "source": [
    "#COMPARAISON DE LA 3e COLONNE A LA CHAINE \"Algeria\"\n",
    "country_is_algeria=world_alcohol[:,2]==\"Algeria\""
   ]
  },
  {
   "cell_type": "code",
   "execution_count": 9,
   "metadata": {},
   "outputs": [
    {
     "data": {
      "text/plain": [
       "array([['1984', 'Africa', 'Algeria', 'Spirits', '0.01'],\n",
       "       ['1987', 'Africa', 'Algeria', 'Beer', '0.17'],\n",
       "       ['1987', 'Africa', 'Algeria', 'Spirits', '0.01'],\n",
       "       ['1986', 'Africa', 'Algeria', 'Wine', '0.1'],\n",
       "       ['1984', 'Africa', 'Algeria', 'Other', '0'],\n",
       "       ['1989', 'Africa', 'Algeria', 'Beer', '0.16'],\n",
       "       ['1989', 'Africa', 'Algeria', 'Spirits', '0.01'],\n",
       "       ['1989', 'Africa', 'Algeria', 'Wine', '0.23'],\n",
       "       ['1986', 'Africa', 'Algeria', 'Spirits', '0.01'],\n",
       "       ['1984', 'Africa', 'Algeria', 'Wine', '0.12'],\n",
       "       ['1985', 'Africa', 'Algeria', 'Beer', '0.19'],\n",
       "       ['1985', 'Africa', 'Algeria', 'Other', '0'],\n",
       "       ['1986', 'Africa', 'Algeria', 'Beer', '0.18'],\n",
       "       ['1985', 'Africa', 'Algeria', 'Wine', '0.11'],\n",
       "       ['1986', 'Africa', 'Algeria', 'Other', '0'],\n",
       "       ['1989', 'Africa', 'Algeria', 'Other', '0'],\n",
       "       ['1987', 'Africa', 'Algeria', 'Other', '0'],\n",
       "       ['1984', 'Africa', 'Algeria', 'Beer', '0.2'],\n",
       "       ['1985', 'Africa', 'Algeria', 'Spirits', '0.01'],\n",
       "       ['1987', 'Africa', 'Algeria', 'Wine', '0.1']], dtype='<U75')"
      ]
     },
     "execution_count": 9,
     "metadata": {},
     "output_type": "execute_result"
    }
   ],
   "source": [
    "#SELECTION DES LIGNES QUI CONTIENNT LA CHAINE \"Algeria\"\n",
    "#country_algeria= world_alcohol[country_is_algeria,:]\n",
    "#country_algeria\n",
    "\n",
    "country_algeria_2= world_alcohol[world_alcohol[:,2]==\"Algeria\"]\n",
    "country_algeria_2"
   ]
  },
  {
   "cell_type": "code",
   "execution_count": 32,
   "metadata": {},
   "outputs": [
    {
     "data": {
      "text/plain": [
       "array([['1984', 'Africa', 'Nigeria', 'Other', '6.1'],\n",
       "       ['1984', 'Eastern Mediterranean', 'Afghanistan', 'Other', '0'],\n",
       "       ['1984', 'Americas', 'Costa Rica', 'Wine', '0.06'],\n",
       "       ...,\n",
       "       ['1984', 'Europe', 'Latvia', 'Spirits', '7.5'],\n",
       "       ['1984', 'Africa', 'Angola', 'Wine', '0.57'],\n",
       "       ['1984', 'Africa', 'Central African Republic', 'Wine', '0.46']],\n",
       "      dtype='<U75')"
      ]
     },
     "execution_count": 32,
     "metadata": {},
     "output_type": "execute_result"
    }
   ],
   "source": [
    "#FAIRE PARIELLE POUR LA L'ANNEE \"1984\"\n",
    "years_is_1984 = (world_alcohol[:,0]==\"1984\")\n",
    "years_1984 = world_alcohol[years_is_1984,:]\n",
    "years_1984"
   ]
  },
  {
   "cell_type": "code",
   "execution_count": 35,
   "metadata": {},
   "outputs": [
    {
     "data": {
      "text/plain": [
       "array([['1984', 'Africa', 'Nigeria', 'Other', '6.1'],\n",
       "       ['1984', 'Eastern Mediterranean', 'Afghanistan', 'Other', '0'],\n",
       "       ['1984', 'Americas', 'Costa Rica', 'Wine', '0.06'],\n",
       "       ...,\n",
       "       ['1984', 'Europe', 'Latvia', 'Spirits', '7.5'],\n",
       "       ['1984', 'Africa', 'Angola', 'Wine', '0.57'],\n",
       "       ['1984', 'Africa', 'Central African Republic', 'Wine', '0.46']],\n",
       "      dtype='<U75')"
      ]
     },
     "execution_count": 35,
     "metadata": {},
     "output_type": "execute_result"
    }
   ],
   "source": [
    "##Plus rapide \n",
    "years_1984 = world_alcohol[world_alcohol[:,0]==\"1984\"]\n",
    "years_1984"
   ]
  },
  {
   "cell_type": "markdown",
   "metadata": {},
   "source": [
    "Effectuer des comparaisons avec plusieurs conditions"
   ]
  },
  {
   "cell_type": "code",
   "execution_count": 36,
   "metadata": {},
   "outputs": [
    {
     "data": {
      "text/plain": [
       "array([ 5, 10,  6, 20])"
      ]
     },
     "execution_count": 36,
     "metadata": {},
     "output_type": "execute_result"
    }
   ],
   "source": [
    "vector"
   ]
  },
  {
   "cell_type": "code",
   "execution_count": 45,
   "metadata": {},
   "outputs": [
    {
     "data": {
      "text/plain": [
       "array([False, False, False, False])"
      ]
     },
     "execution_count": 45,
     "metadata": {},
     "output_type": "execute_result"
    }
   ],
   "source": [
    "equal_to_ten_and_five = (vector == 10) & (vector == 5)\n",
    "equal_to_ten_and_five"
   ]
  },
  {
   "cell_type": "code",
   "execution_count": 46,
   "metadata": {},
   "outputs": [
    {
     "data": {
      "text/plain": [
       "array([ True,  True, False, False])"
      ]
     },
     "execution_count": 46,
     "metadata": {},
     "output_type": "execute_result"
    }
   ],
   "source": [
    "equal_to_ten_or_five= (vector == 10) | (vector == 5)\n",
    "equal_to_ten_or_five"
   ]
  },
  {
   "cell_type": "markdown",
   "metadata": {},
   "source": [
    "selectionner les lignes correspondantes à algeria et 1986"
   ]
  },
  {
   "cell_type": "code",
   "execution_count": 57,
   "metadata": {},
   "outputs": [
    {
     "data": {
      "text/plain": [
       "array([['1986', 'Africa', 'Algeria', 'Wine', '0.1'],\n",
       "       ['1986', 'Africa', 'Algeria', 'Spirits', '0.01'],\n",
       "       ['1986', 'Africa', 'Algeria', 'Beer', '0.18'],\n",
       "       ['1986', 'Africa', 'Algeria', 'Other', '0']], dtype='<U75')"
      ]
     },
     "execution_count": 57,
     "metadata": {},
     "output_type": "execute_result"
    }
   ],
   "source": [
    "algeria = world_alcohol[world_alcohol[:,2]==\"Algeria\",:]\n",
    "algeria_and_1986 = algeria[algeria[:,0]==\"1986\",:]\n",
    "algeria_and_1986 "
   ]
  },
  {
   "cell_type": "markdown",
   "metadata": {},
   "source": [
    "Une deuxieme syntaxe (plus rapide) :"
   ]
  },
  {
   "cell_type": "code",
   "execution_count": 10,
   "metadata": {},
   "outputs": [
    {
     "data": {
      "text/plain": [
       "array([['1986', 'Africa', 'Algeria', 'Wine', '0.1'],\n",
       "       ['1986', 'Africa', 'Algeria', 'Spirits', '0.01'],\n",
       "       ['1986', 'Africa', 'Algeria', 'Beer', '0.18'],\n",
       "       ['1986', 'Africa', 'Algeria', 'Other', '0']], dtype='<U75')"
      ]
     },
     "execution_count": 10,
     "metadata": {},
     "output_type": "execute_result"
    }
   ],
   "source": [
    "algeria_and_1986 = world_alcohol[(world_alcohol[:,2]==\"Algeria\")&(world_alcohol[:,0]==\"1986\")]\n",
    "algeria_and_1986\n",
    "#il ne faut jamais oublier les parantheses qu'on fait des comparaisons "
   ]
  },
  {
   "cell_type": "markdown",
   "metadata": {},
   "source": [
    "Remplacer des valeurs dans un tableau Numpy"
   ]
  },
  {
   "cell_type": "code",
   "execution_count": 61,
   "metadata": {},
   "outputs": [
    {
     "data": {
      "text/plain": [
       "array([ 5, 10,  6, 20])"
      ]
     },
     "execution_count": 61,
     "metadata": {},
     "output_type": "execute_result"
    }
   ],
   "source": [
    "vector"
   ]
  },
  {
   "cell_type": "code",
   "execution_count": 65,
   "metadata": {},
   "outputs": [
    {
     "data": {
      "text/plain": [
       "array([ True,  True, False, False])"
      ]
     },
     "execution_count": 65,
     "metadata": {},
     "output_type": "execute_result"
    }
   ],
   "source": [
    "equal_to_ten_or_five = (vector==10)|(vector==5)\n",
    "equal_to_ten_or_five"
   ]
  },
  {
   "cell_type": "code",
   "execution_count": 67,
   "metadata": {},
   "outputs": [
    {
     "data": {
      "text/plain": [
       "array([50, 50,  6, 20])"
      ]
     },
     "execution_count": 67,
     "metadata": {},
     "output_type": "execute_result"
    }
   ],
   "source": [
    "vector[equal_to_ten_or_five]= 50\n",
    "vector"
   ]
  },
  {
   "cell_type": "code",
   "execution_count": 68,
   "metadata": {},
   "outputs": [
    {
     "data": {
      "text/plain": [
       "array([[ 5, 10, 15],\n",
       "       [20, 25, 30],\n",
       "       [35, 40, 45]])"
      ]
     },
     "execution_count": 68,
     "metadata": {},
     "output_type": "execute_result"
    }
   ],
   "source": [
    "matrix"
   ]
  },
  {
   "cell_type": "code",
   "execution_count": 69,
   "metadata": {},
   "outputs": [
    {
     "name": "stdout",
     "output_type": "stream",
     "text": [
      "[False  True False]\n"
     ]
    }
   ],
   "source": [
    "second_colum_25 = matrix[:,1]==25\n",
    "print(second_colum_25)"
   ]
  },
  {
   "cell_type": "code",
   "execution_count": 70,
   "metadata": {},
   "outputs": [
    {
     "data": {
      "text/plain": [
       "array([[ 5, 10, 15],\n",
       "       [20, 10, 30],\n",
       "       [35, 40, 45]])"
      ]
     },
     "execution_count": 70,
     "metadata": {},
     "output_type": "execute_result"
    }
   ],
   "source": [
    "matrix[second_colum_25,1]=10\n",
    "matrix"
   ]
  },
  {
   "cell_type": "code",
   "execution_count": 71,
   "metadata": {},
   "outputs": [],
   "source": [
    "world_alcohol_2 = world_alcohol"
   ]
  },
  {
   "cell_type": "markdown",
   "metadata": {},
   "source": [
    "Rempalcer toutes les années \"1986\" de la premiere colonne de world_alcohol_2 par \"2018\""
   ]
  },
  {
   "cell_type": "code",
   "execution_count": 86,
   "metadata": {},
   "outputs": [],
   "source": [
    "world_alcohol_2[:,0][world_alcohol_2[:,0]==\"1986\"]=\"2018\"\n",
    "#sélection de la première colonne du tableau puis on ajoute\n",
    "#une condition de sélection [world_alcohol_2[:, 0] == \"1986\"].\n",
    "#same thing like where world_alcohol_2[:,0]==\"1986\""
   ]
  },
  {
   "cell_type": "markdown",
   "metadata": {},
   "source": [
    "Remplacer toutes les alcools \"Wine\" de la 4e colonne de world_alacohol par \"Beer\""
   ]
  },
  {
   "cell_type": "code",
   "execution_count": 78,
   "metadata": {},
   "outputs": [],
   "source": [
    "world_alcohol_2[:,3][world_alcohol_2[:,3]==\"Wine\"]=\"Beer\""
   ]
  },
  {
   "cell_type": "code",
   "execution_count": 84,
   "metadata": {},
   "outputs": [
    {
     "name": "stdout",
     "output_type": "stream",
     "text": [
      "[['2018' 'Western Pacific' 'Viet Nam' 'Beer' '0']\n",
      " ['2018' 'Americas' 'Uruguay' 'Other' '0.5']\n",
      " ['1985' 'Africa' \"Cte d'Ivoire\" 'Beer' '1.62']\n",
      " ...\n",
      " ['2018' 'Europe' 'Switzerland' 'Spirits' '2.54']\n",
      " ['1987' 'Western Pacific' 'Papua New Guinea' 'Other' '0']\n",
      " ['2018' 'Africa' 'Swaziland' 'Other' '5.15']]\n"
     ]
    }
   ],
   "source": [
    " print(world_alcohol_2)"
   ]
  },
  {
   "cell_type": "code",
   "execution_count": 83,
   "metadata": {},
   "outputs": [
    {
     "data": {
      "text/plain": [
       "array([['2018', 'Western Pacific', 'Viet Nam', 'Beer', '0'],\n",
       "       ['2018', 'Americas', 'Uruguay', 'Other', '0.5'],\n",
       "       ['1985', 'Africa', \"Cte d'Ivoire\", 'Beer', '1.62'],\n",
       "       ...,\n",
       "       ['2018', 'Europe', 'Switzerland', 'Spirits', '2.54'],\n",
       "       ['1987', 'Western Pacific', 'Papua New Guinea', 'Other', '0'],\n",
       "       ['2018', 'Africa', 'Swaziland', 'Other', '5.15']], dtype='<U75')"
      ]
     },
     "execution_count": 83,
     "metadata": {},
     "output_type": "execute_result"
    }
   ],
   "source": [
    " world_alcohol"
   ]
  },
  {
   "cell_type": "markdown",
   "metadata": {},
   "source": [
    "Une deuxieme syntaxe  :"
   ]
  },
  {
   "cell_type": "code",
   "execution_count": 89,
   "metadata": {},
   "outputs": [],
   "source": [
    "world_alcohol_2[world_alcohol_2[:,0]==\"1986\",0]=\"2018\"\n",
    "# ndarray[condition, première colonne] donc tableau sur lequel \n",
    "#on sélectionne seulement les valeurs \"1986\" de la première colonne"
   ]
  },
  {
   "cell_type": "markdown",
   "metadata": {},
   "source": [
    "Remplacer les chaines de caractères vides"
   ]
  },
  {
   "cell_type": "markdown",
   "metadata": {},
   "source": [
    "On ne peut pas realiser des operation mathematique sur des chaines de charachteres, pour resoudre ce probleme on doit les transformer en nombres : "
   ]
  },
  {
   "cell_type": "code",
   "execution_count": 113,
   "metadata": {},
   "outputs": [
    {
     "data": {
      "text/plain": [
       "array([['2018', 'Western Pacific', 'Viet Nam', 'Beer', '0'],\n",
       "       ['2018', 'Americas', 'Uruguay', 'Other', '0.5'],\n",
       "       ['1985', 'Africa', \"Cte d'Ivoire\", 'Beer', '1.62'],\n",
       "       ...,\n",
       "       ['2018', 'Europe', 'Switzerland', 'Spirits', '2.54'],\n",
       "       ['1987', 'Western Pacific', 'Papua New Guinea', 'Other', '0'],\n",
       "       ['2018', 'Africa', 'Swaziland', 'Other', '5.15']], dtype='<U75')"
      ]
     },
     "execution_count": 113,
     "metadata": {},
     "output_type": "execute_result"
    }
   ],
   "source": [
    "is_value_empty = world_alcohol_2[:,4]==\"\"\n",
    "world_alcohol_2[is_value_empty,4]=\"0\"\n",
    "world_alcohol_2"
   ]
  },
  {
   "cell_type": "code",
   "execution_count": 117,
   "metadata": {},
   "outputs": [
    {
     "name": "stdout",
     "output_type": "stream",
     "text": [
      "[[ 0.49671415 -0.1382643   0.64768854  1.52302986]\n",
      " [-0.23415337 -0.23413696  1.57921282  0.76743473]\n",
      " [-0.46947439  0.54256004         nan -0.46572975]]\n"
     ]
    }
   ],
   "source": [
    "np.random.seed(42)\n",
    "\n",
    "a = np.random.randn(3, 4)\n",
    "a[2][2] = np.nan\n",
    "print (a)"
   ]
  },
  {
   "cell_type": "code",
   "execution_count": 128,
   "metadata": {},
   "outputs": [],
   "source": [
    "np.savetxt('np.csv', world_alcohol_2,fmt='%s', delimiter=',')"
   ]
  },
  {
   "cell_type": "markdown",
   "metadata": {},
   "source": [
    "# Convertir des types de données"
   ]
  },
  {
   "cell_type": "code",
   "execution_count": 129,
   "metadata": {},
   "outputs": [],
   "source": [
    "# astype()"
   ]
  },
  {
   "cell_type": "code",
   "execution_count": 130,
   "metadata": {},
   "outputs": [],
   "source": [
    "vector = np.array([\"1\",\"2\",\"3\"])"
   ]
  },
  {
   "cell_type": "code",
   "execution_count": 132,
   "metadata": {},
   "outputs": [],
   "source": [
    "vector= vector.astype(float)"
   ]
  },
  {
   "cell_type": "code",
   "execution_count": 133,
   "metadata": {},
   "outputs": [
    {
     "data": {
      "text/plain": [
       "array([1., 2., 3.])"
      ]
     },
     "execution_count": 133,
     "metadata": {},
     "output_type": "execute_result"
    }
   ],
   "source": [
    "vector"
   ]
  },
  {
   "cell_type": "code",
   "execution_count": 134,
   "metadata": {},
   "outputs": [],
   "source": [
    "alcohol_consumption = world_alcohol[:,4]"
   ]
  },
  {
   "cell_type": "code",
   "execution_count": 136,
   "metadata": {},
   "outputs": [
    {
     "name": "stdout",
     "output_type": "stream",
     "text": [
      "[0.   0.5  1.62 ... 2.54 0.   5.15]\n"
     ]
    }
   ],
   "source": [
    "alcohol_consumption=alcohol_consumption.astype(float)\n",
    "print(alcohol_consumption)"
   ]
  },
  {
   "cell_type": "markdown",
   "metadata": {},
   "source": [
    "# Réaliser des calcules mathématiques avec Numpy"
   ]
  },
  {
   "cell_type": "code",
   "execution_count": 137,
   "metadata": {},
   "outputs": [],
   "source": [
    "#sum()\n",
    "#mean()\n",
    "#max()"
   ]
  },
  {
   "cell_type": "code",
   "execution_count": 138,
   "metadata": {},
   "outputs": [],
   "source": [
    "vector = np.array([5,10,15,20])"
   ]
  },
  {
   "cell_type": "code",
   "execution_count": 142,
   "metadata": {},
   "outputs": [],
   "source": [
    "matrix = np.array([[5,10,15],[20,25,30],[35,40,45]])"
   ]
  },
  {
   "cell_type": "code",
   "execution_count": 143,
   "metadata": {},
   "outputs": [
    {
     "data": {
      "text/plain": [
       "array([[ 5, 10, 15],\n",
       "       [20, 25, 30],\n",
       "       [35, 40, 45]])"
      ]
     },
     "execution_count": 143,
     "metadata": {},
     "output_type": "execute_result"
    }
   ],
   "source": [
    "matrix"
   ]
  },
  {
   "cell_type": "code",
   "execution_count": 146,
   "metadata": {},
   "outputs": [
    {
     "data": {
      "text/plain": [
       "array([ 30,  75, 120])"
      ]
     },
     "execution_count": 146,
     "metadata": {},
     "output_type": "execute_result"
    }
   ],
   "source": [
    "#axis = 1  ==> lignes\n",
    "matrix.sum(axis=1 )"
   ]
  },
  {
   "cell_type": "code",
   "execution_count": 147,
   "metadata": {},
   "outputs": [
    {
     "data": {
      "text/plain": [
       "array([60, 75, 90])"
      ]
     },
     "execution_count": 147,
     "metadata": {},
     "output_type": "execute_result"
    }
   ],
   "source": [
    "#axis = 0  ==> colonnes\n",
    "matrix.sum(axis=0 )"
   ]
  },
  {
   "cell_type": "markdown",
   "metadata": {},
   "source": [
    "calculer la somme des valeurs de alcool_consumption "
   ]
  },
  {
   "cell_type": "code",
   "execution_count": 148,
   "metadata": {},
   "outputs": [],
   "source": [
    "total_alcohol = alcohol_consumption.sum()"
   ]
  },
  {
   "cell_type": "markdown",
   "metadata": {},
   "source": [
    "calculer la moyen des valeurs de alcool_consumption"
   ]
  },
  {
   "cell_type": "code",
   "execution_count": 149,
   "metadata": {},
   "outputs": [],
   "source": [
    "average_alcohol = alcohol_consumption.mean()"
   ]
  },
  {
   "cell_type": "code",
   "execution_count": 154,
   "metadata": {},
   "outputs": [
    {
     "name": "stdout",
     "output_type": "stream",
     "text": [
      "3908.96\n",
      "1.2001719373656738\n"
     ]
    }
   ],
   "source": [
    "print(total_alcohol)\n",
    "print(average_alcohol )\n",
    " "
   ]
  },
  {
   "cell_type": "code",
   "execution_count": 157,
   "metadata": {},
   "outputs": [
    {
     "name": "stdout",
     "output_type": "stream",
     "text": [
      "verification :  1.2001719373656738\n"
     ]
    }
   ],
   "source": [
    "print(\"verification : \",total_alcohol/len(alcohol_consumption))"
   ]
  },
  {
   "cell_type": "markdown",
   "metadata": {},
   "source": [
    "### Calculer la consommation totale annuelle par habitant pour \"Canada\" en 1986"
   ]
  },
  {
   "cell_type": "code",
   "execution_count": 158,
   "metadata": {},
   "outputs": [
    {
     "name": "stdout",
     "output_type": "stream",
     "text": [
      "[['1984' 'Americas' 'Canada' 'Spirits' '3.35']\n",
      " ['1989' 'Americas' 'Canada' 'Beer' '1.27']\n",
      " ['1984' 'Americas' 'Canada' 'Beer' '5']\n",
      " ['1985' 'Americas' 'Canada' 'Beer' '4.94']\n",
      " ['1987' 'Americas' 'Canada' 'Beer' '1.3']\n",
      " ['1987' 'Americas' 'Canada' 'Beer' '4.83']\n",
      " ['2018' 'Americas' 'Canada' 'Other' '0']\n",
      " ['2018' 'Americas' 'Canada' 'Spirits' '3.11']\n",
      " ['1985' 'Americas' 'Canada' 'Spirits' '3.21']\n",
      " ['1985' 'Americas' 'Canada' 'Other' '0']\n",
      " ['2018' 'Americas' 'Canada' 'Beer' '4.87']\n",
      " ['1984' 'Americas' 'Canada' 'Beer' '1.24']\n",
      " ['1989' 'Americas' 'Canada' 'Spirits' '2.91']\n",
      " ['1984' 'Americas' 'Canada' 'Other' '0']\n",
      " ['1985' 'Americas' 'Canada' 'Beer' '1.29']\n",
      " ['1987' 'Americas' 'Canada' 'Spirits' '2.99']\n",
      " ['1989' 'Americas' 'Canada' 'Beer' '4.82']\n",
      " ['1989' 'Americas' 'Canada' 'Other' '0']\n",
      " ['2018' 'Americas' 'Canada' 'Beer' '1.33']\n",
      " ['1987' 'Americas' 'Canada' 'Other' '0']]\n"
     ]
    }
   ],
   "source": [
    "print(world_alcohol[world_alcohol[:,2]==\"Canada\"])"
   ]
  },
  {
   "cell_type": "code",
   "execution_count": 42,
   "metadata": {},
   "outputs": [],
   "source": [
    " canada_1986= world_alcohol[(world_alcohol[:,2]==\"Canada\")&(world_alcohol[:,0]==\"1986\")]"
   ]
  },
  {
   "cell_type": "code",
   "execution_count": 43,
   "metadata": {},
   "outputs": [
    {
     "data": {
      "text/plain": [
       "array([['1986', 'Americas', 'Canada', 'Other', ''],\n",
       "       ['1986', 'Americas', 'Canada', 'Spirits', '3.11'],\n",
       "       ['1986', 'Americas', 'Canada', 'Beer', '4.87'],\n",
       "       ['1986', 'Americas', 'Canada', 'Wine', '1.33']], dtype='<U75')"
      ]
     },
     "execution_count": 43,
     "metadata": {},
     "output_type": "execute_result"
    }
   ],
   "source": [
    "canada_1986  "
   ]
  },
  {
   "cell_type": "code",
   "execution_count": 45,
   "metadata": {},
   "outputs": [],
   "source": [
    "#rempalacer tout string vide par 0, et transformer en float \n",
    "canada_alcohol = canada_1986[:,4]\n",
    "canada_alcohol[canada_alcohol==\"\"]=0\n",
    "canada_alcohol=canada_alcohol.astype(float)"
   ]
  },
  {
   "cell_type": "code",
   "execution_count": 46,
   "metadata": {},
   "outputs": [],
   "source": [
    "total_canadien_drinking = canada_alcohol.sum()"
   ]
  },
  {
   "cell_type": "code",
   "execution_count": 47,
   "metadata": {},
   "outputs": [
    {
     "data": {
      "text/plain": [
       "9.31"
      ]
     },
     "execution_count": 47,
     "metadata": {},
     "output_type": "execute_result"
    }
   ],
   "source": [
    "total_canadien_drinking"
   ]
  },
  {
   "cell_type": "markdown",
   "metadata": {},
   "source": [
    "# Calculer la consommation pour chaque pays à l'annee 1989"
   ]
  },
  {
   "cell_type": "code",
   "execution_count": 194,
   "metadata": {},
   "outputs": [],
   "source": [
    "totals = {}"
   ]
  },
  {
   "cell_type": "code",
   "execution_count": 214,
   "metadata": {},
   "outputs": [
    {
     "data": {
      "text/plain": [
       "array([['1989', 'Americas', 'Guatemala', 'Beer', '0.62'],\n",
       "       ['1989', 'Africa', 'Seychelles', 'Beer', '2.23'],\n",
       "       ['1989', 'Americas', 'Costa Rica', 'Spirits', '4.51'],\n",
       "       ...,\n",
       "       ['1989', 'Eastern Mediterranean', 'Morocco', 'Spirits', '0.07'],\n",
       "       ['1989', 'Europe', 'Poland', 'Beer', '2.03'],\n",
       "       ['1989', 'Europe', 'Turkey', 'Other', '0']], dtype='<U75')"
      ]
     },
     "execution_count": 214,
     "metadata": {},
     "output_type": "execute_result"
    }
   ],
   "source": [
    "year = world_alcohol[world_alcohol[:,0]==\"1989\"]\n",
    "year"
   ]
  },
  {
   "cell_type": "code",
   "execution_count": 52,
   "metadata": {},
   "outputs": [],
   "source": [
    "contries = set(world_alcohol[:,2])\n",
    "#set() => Get unique values from a list\n",
    " "
   ]
  },
  {
   "cell_type": "code",
   "execution_count": 216,
   "metadata": {},
   "outputs": [],
   "source": [
    "for pays in contries :\n",
    " contrey_consumption = year[year[:,2]==pays]\n",
    " colonne_5 = contrey_consumption[:,4]\n",
    " colonne_5[colonne_5==\"\"]=0\n",
    " colonne_5=colonne_5.astype(float)\n",
    " sum_pays = colonne_5.sum()\n",
    " totals[pays]=sum_pays"
   ]
  },
  {
   "cell_type": "code",
   "execution_count": 222,
   "metadata": {},
   "outputs": [
    {
     "name": "stdout",
     "output_type": "stream",
     "text": [
      "United States of America => 9.16\n",
      "Djibouti => 0.87\n",
      "Romania => 8.41\n",
      "Turkey => 0.72\n",
      "Chile => 8.649999999999999\n",
      "Uruguay => 7.4399999999999995\n",
      "Saudi Arabia => 0.15\n",
      "Gabon => 9.34\n",
      "Japan => 7.74\n",
      "Iraq => 0.75\n",
      "Indonesia => 0.07\n",
      "France => 16.05\n",
      "Norway => 5.08\n",
      "Latvia => 7.039999999999999\n",
      "Belgium => 11.61\n",
      "Italy => 10.899999999999999\n",
      "Micronesia (Federated States of) => 0.0\n",
      "United Republic of Tanzania => 5.9\n",
      "El Salvador => 1.77\n",
      "Poland => 9.33\n",
      "Chad => 0.30000000000000004\n",
      "Democratic Republic of the Congo => 1.92\n",
      "Mauritius => 3.54\n",
      "Trinidad and Tobago => 4.68\n",
      "Cabo Verde => 2.79\n",
      "Oman => 1.03\n",
      "Netherlands => 10.030000000000001\n",
      "Portugal => 15.350000000000001\n",
      "Solomon Islands => 0.5800000000000001\n",
      "Viet Nam => 0.16\n",
      "Lesotho => 2.02\n",
      "Liberia => 5.61\n",
      "Fiji => 1.9600000000000002\n",
      "Somalia => 0.0\n",
      "Lebanon => 3.94\n",
      "Morocco => 0.7\n",
      "Albania => 1.73\n",
      "Kuwait => 0.0\n",
      "Cuba => 4.37\n",
      "Haiti => 5.81\n",
      "Honduras => 2.15\n",
      "Austria => 13.9\n",
      "Guinea-Bissau => 2.67\n",
      "Central African Republic => 2.5199999999999996\n",
      "Slovenia => 12.969999999999999\n",
      "Belarus => 7.9799999999999995\n",
      "Luxembourg => 15.21\n",
      "Equatorial Guinea => 6.49\n",
      "Burundi => 8.159999999999998\n",
      "Singapore => 1.61\n",
      "Sweden => 7.47\n",
      "Senegal => 0.6100000000000001\n",
      "Denmark => 11.649999999999999\n",
      "Philippines => 3.78\n",
      "Rwanda => 7.549999999999999\n",
      "Kyrgyzstan => 4.279999999999999\n",
      "Kiribati => 0.48\n",
      "Germany => 14.64\n",
      "Iceland => 5.359999999999999\n",
      "Papua New Guinea => 1.1099999999999999\n",
      "Bhutan => 0.31\n",
      "Nicaragua => 2.5\n",
      "Samoa => 2.63\n",
      "Slovakia => 12.700000000000001\n",
      "Lithuania => 0.0\n",
      "Canada => 9.0\n",
      "Mongolia => 2.59\n",
      "Tunisia => 0.95\n",
      "Lao People's Democratic Republic => 5.95\n",
      "Afghanistan => 0.0\n",
      "Brazil => 5.52\n",
      "Cyprus => 9.29\n",
      "Paraguay => 6.51\n",
      "Ghana => 1.8599999999999999\n",
      "Qatar => 1.4500000000000002\n",
      "Switzerland => 13.849999999999998\n",
      "Vanuatu => 1.74\n",
      "Bulgaria => 11.43\n",
      "Uganda => 7.8\n",
      "Burkina Faso => 3.99\n",
      "Nepal => 0.03\n",
      "Namibia => 0.24\n",
      "Sao Tome and Principe => 2.57\n",
      "Sri Lanka => 0.14\n",
      "Myanmar => 0.16\n",
      "Iran (Islamic Republic of) => 0.0\n",
      "Bolivia (Plurinational State of) => 3.05\n",
      "Eritrea => 0.29\n",
      "Bangladesh => 0.0\n",
      "Niger => 0.11\n",
      "Peru => 4.99\n",
      "China => 3.33\n",
      "South Africa => 9.21\n",
      "Mali => 0.6699999999999999\n",
      "Hungary => 16.29\n",
      "Cte d'Ivoire => 2.2\n",
      "Madagascar => 1.38\n",
      "Bahamas => 12.290000000000001\n",
      "Belize => 0.0\n",
      "Nigeria => 6.74\n",
      "United Kingdom of Great Britain and Northern Ireland => 9.99\n",
      "Czech Republic => 13.009999999999998\n",
      "Suriname => 3.67\n",
      "Saint Lucia => 11.62\n",
      "Ukraine => 5.32\n",
      "Antigua and Barbuda => 4.69\n",
      "Angola => 2.28\n",
      "Gambia => 1.6300000000000001\n",
      "Australia => 12.09\n",
      "Algeria => 0.4\n",
      "Yemen => 0.2\n",
      "Panama => 4.6000000000000005\n",
      "Benin => 1.3800000000000001\n",
      "Dominican Republic => 4.53\n",
      "Syrian Arab Republic => 0.54\n",
      "Ireland => 11.79\n",
      "Congo => 3.1500000000000004\n",
      "New Zealand => 11.52\n",
      "Cameroon => 6.359999999999999\n",
      "Zambia => 3.37\n",
      "Jordan => 0.19\n",
      "Malawi => 1.02\n",
      "Guyana => 9.940000000000001\n",
      "Guinea => 0.21\n",
      "Ecuador => 2.54\n",
      "Malaysia => 0.68\n",
      "India => 1.66\n",
      "Sudan => 0.15\n",
      "Bahrain => 4.89\n",
      "Pakistan => 0.02\n",
      "United Arab Emirates => 4.43\n",
      "Mexico => 5.1\n",
      "Kenya => 2.82\n",
      "Malta => 7.13\n",
      "Venezuela (Bolivarian Republic of) => 7.87\n",
      "Guatemala => 2.47\n",
      "Comoros => 0.10999999999999999\n",
      "Jamaica => 3.03\n",
      "Greece => 10.15\n",
      "Israel => 2.0300000000000002\n",
      "Brunei Darussalam => 2.7800000000000002\n",
      "Libya => 0.0\n",
      "Croatia => 10.92\n",
      "Democratic People's Republic of Korea => 3.6799999999999997\n",
      "Seychelles => 3.3000000000000003\n",
      "Cambodia => 0.33\n",
      "Mauritania => 0.02\n",
      "Republic of Korea => 9.620000000000001\n",
      "Sierra Leone => 4.380000000000001\n",
      "Russian Federation => 5.35\n",
      "Costa Rica => 5.3999999999999995\n",
      "Argentina => 10.82\n",
      "Finland => 9.419999999999998\n",
      "Spain => 13.280000000000001\n",
      "Zimbabwe => 4.92\n",
      "Mozambique => 0.39\n",
      "Swaziland => 6.68\n",
      "Ethiopia => 0.8600000000000001\n",
      "Colombia => 6.960000000000001\n",
      "Saint Kitts and Nevis => 4.65\n",
      "Thailand => 3.92\n",
      "Togo => 2.2199999999999998\n",
      "Botswana => 4.63\n",
      "Egypt => 0.42000000000000004\n"
     ]
    }
   ],
   "source": [
    "for pays in totals:\n",
    "    print(pays,\"=>\", totals[pays])"
   ]
  },
  {
   "cell_type": "code",
   "execution_count": 230,
   "metadata": {},
   "outputs": [
    {
     "name": "stdout",
     "output_type": "stream",
     "text": [
      "Hungary ==> 16.29\n"
     ]
    }
   ],
   "source": [
    "max = 0 \n",
    "max_pay=None\n",
    "for pays in totals:\n",
    "    if( totals[pays]>max):\n",
    "        max = totals[pays]\n",
    "        max_pay = pays\n",
    "    \n",
    "print(max_pay,\"==>\",max)"
   ]
  },
  {
   "cell_type": "code",
   "execution_count": 11,
   "metadata": {},
   "outputs": [],
   "source": [
    "import pandas as pd "
   ]
  },
  {
   "cell_type": "code",
   "execution_count": 33,
   "metadata": {},
   "outputs": [
    {
     "data": {
      "text/html": [
       "<div>\n",
       "<style scoped>\n",
       "    .dataframe tbody tr th:only-of-type {\n",
       "        vertical-align: middle;\n",
       "    }\n",
       "\n",
       "    .dataframe tbody tr th {\n",
       "        vertical-align: top;\n",
       "    }\n",
       "\n",
       "    .dataframe thead th {\n",
       "        text-align: right;\n",
       "    }\n",
       "</style>\n",
       "<table border=\"1\" class=\"dataframe\">\n",
       "  <thead>\n",
       "    <tr style=\"text-align: right;\">\n",
       "      <th></th>\n",
       "      <th>Year</th>\n",
       "      <th>WHO region</th>\n",
       "      <th>Country</th>\n",
       "      <th>Beverage Types</th>\n",
       "      <th>Display Value</th>\n",
       "    </tr>\n",
       "  </thead>\n",
       "  <tbody>\n",
       "    <tr>\n",
       "      <th>0</th>\n",
       "      <td>1986</td>\n",
       "      <td>Western Pacific</td>\n",
       "      <td>Viet Nam</td>\n",
       "      <td>Wine</td>\n",
       "      <td>0.00</td>\n",
       "    </tr>\n",
       "    <tr>\n",
       "      <th>1</th>\n",
       "      <td>1986</td>\n",
       "      <td>Americas</td>\n",
       "      <td>Uruguay</td>\n",
       "      <td>Other</td>\n",
       "      <td>0.50</td>\n",
       "    </tr>\n",
       "    <tr>\n",
       "      <th>2</th>\n",
       "      <td>1985</td>\n",
       "      <td>Africa</td>\n",
       "      <td>Cte d'Ivoire</td>\n",
       "      <td>Wine</td>\n",
       "      <td>1.62</td>\n",
       "    </tr>\n",
       "    <tr>\n",
       "      <th>3</th>\n",
       "      <td>1986</td>\n",
       "      <td>Americas</td>\n",
       "      <td>Colombia</td>\n",
       "      <td>Beer</td>\n",
       "      <td>4.27</td>\n",
       "    </tr>\n",
       "    <tr>\n",
       "      <th>4</th>\n",
       "      <td>1987</td>\n",
       "      <td>Americas</td>\n",
       "      <td>Saint Kitts and Nevis</td>\n",
       "      <td>Beer</td>\n",
       "      <td>1.98</td>\n",
       "    </tr>\n",
       "  </tbody>\n",
       "</table>\n",
       "</div>"
      ],
      "text/plain": [
       "   Year       WHO region                Country Beverage Types  Display Value\n",
       "0  1986  Western Pacific               Viet Nam           Wine           0.00\n",
       "1  1986         Americas                Uruguay          Other           0.50\n",
       "2  1985           Africa           Cte d'Ivoire           Wine           1.62\n",
       "3  1986         Americas               Colombia           Beer           4.27\n",
       "4  1987         Americas  Saint Kitts and Nevis           Beer           1.98"
      ]
     },
     "execution_count": 33,
     "metadata": {},
     "output_type": "execute_result"
    }
   ],
   "source": [
    "df1 = pd.read_csv(\"original.csv\")\n",
    "df1.head()"
   ]
  },
  {
   "cell_type": "code",
   "execution_count": 21,
   "metadata": {},
   "outputs": [
    {
     "data": {
      "text/plain": [
       "array([['1985', 'Africa', \"Cte d'Ivoire\", 'Wine', '1.62'],\n",
       "       ['1984', 'Europe', 'Norway', 'Spirits', '1.62'],\n",
       "       ['1985', 'Western Pacific', 'Philippines', 'Beer', '1.62'],\n",
       "       ['1985', 'Western Pacific', 'Japan', 'Other', '1.62'],\n",
       "       ['1985', 'Europe', 'Italy', 'Spirits', '1.62'],\n",
       "       ['1989', 'Africa', 'South Africa', 'Other', '1.62']], dtype='<U75')"
      ]
     },
     "execution_count": 21,
     "metadata": {},
     "output_type": "execute_result"
    }
   ],
   "source": [
    "world_alcohol[world_alcohol[:,-1] == \"1.62\"]"
   ]
  },
  {
   "cell_type": "code",
   "execution_count": 32,
   "metadata": {},
   "outputs": [
    {
     "data": {
      "text/plain": [
       "(222, 5)"
      ]
     },
     "execution_count": 32,
     "metadata": {},
     "output_type": "execute_result"
    }
   ],
   "source": [
    "world_alcohol[world_alcohol[:,4]==\"\"] "
   ]
  },
  {
   "cell_type": "code",
   "execution_count": 34,
   "metadata": {},
   "outputs": [
    {
     "data": {
      "text/plain": [
       "Year                0\n",
       "WHO region          0\n",
       "Country             0\n",
       "Beverage Types      0\n",
       "Display Value     222\n",
       "dtype: int64"
      ]
     },
     "execution_count": 34,
     "metadata": {},
     "output_type": "execute_result"
    }
   ],
   "source": [
    "df1.isnull().sum()"
   ]
  },
  {
   "cell_type": "code",
   "execution_count": 36,
   "metadata": {},
   "outputs": [
    {
     "data": {
      "text/plain": [
       "array([['1986', 'Africa', 'Algeria', 'Wine', '0.1']], dtype='<U75')"
      ]
     },
     "execution_count": 36,
     "metadata": {},
     "output_type": "execute_result"
    }
   ],
   "source": [
    "algeria_and_1986 = world_alcohol[(world_alcohol[:,2]==\"Algeria\")&(world_alcohol[:,0]==\"1986\")&((world_alcohol[:,3]==\"Wine\"))]\n",
    "algeria_and_1986"
   ]
  },
  {
   "cell_type": "code",
   "execution_count": 4,
   "metadata": {},
   "outputs": [
    {
     "ename": "IndexError",
     "evalue": "only integers, slices (`:`), ellipsis (`...`), numpy.newaxis (`None`) and integer or boolean arrays are valid indices",
     "output_type": "error",
     "traceback": [
      "\u001b[1;31m---------------------------------------------------------------------------\u001b[0m",
      "\u001b[1;31mIndexError\u001b[0m                                Traceback (most recent call last)",
      "\u001b[1;32m<ipython-input-4-10e05598b509>\u001b[0m in \u001b[0;36m<module>\u001b[1;34m\u001b[0m\n\u001b[1;32m----> 1\u001b[1;33m \u001b[0mworld_alcohol\u001b[0m\u001b[1;33m[\u001b[0m\u001b[1;34m'WHO region'\u001b[0m\u001b[1;33m]\u001b[0m\u001b[1;33m\u001b[0m\u001b[1;33m\u001b[0m\u001b[0m\n\u001b[0m",
      "\u001b[1;31mIndexError\u001b[0m: only integers, slices (`:`), ellipsis (`...`), numpy.newaxis (`None`) and integer or boolean arrays are valid indices"
     ]
    }
   ],
   "source": [
    " world_alcohol['WHO region']"
   ]
  },
  {
   "cell_type": "code",
   "execution_count": 22,
   "metadata": {},
   "outputs": [],
   "source": [
    "my_array = np.loadtxt('original.csv',delimiter=\",\",dtype=\"U75\")"
   ]
  },
  {
   "cell_type": "code",
   "execution_count": 30,
   "metadata": {},
   "outputs": [],
   "source": [
    "def trouve_col(nom,df): \n",
    "    i=0\n",
    "    for i in range(len(df[0])):\n",
    "            if(df[0][i]==nom):\n",
    "                          break \n",
    "    return df[:,i]\n"
   ]
  },
  {
   "cell_type": "code",
   "execution_count": 31,
   "metadata": {},
   "outputs": [
    {
     "data": {
      "text/plain": [
       "array(['Year', '1986', '1986', ..., '1986', '1987', '1986'], dtype='<U75')"
      ]
     },
     "execution_count": 31,
     "metadata": {},
     "output_type": "execute_result"
    }
   ],
   "source": [
    "trouve_col(\"Year\",world_alcohol)"
   ]
  },
  {
   "cell_type": "code",
   "execution_count": null,
   "metadata": {},
   "outputs": [],
   "source": []
  }
 ],
 "metadata": {
  "kernelspec": {
   "display_name": "Python 3",
   "language": "python",
   "name": "python3"
  },
  "language_info": {
   "codemirror_mode": {
    "name": "ipython",
    "version": 3
   },
   "file_extension": ".py",
   "mimetype": "text/x-python",
   "name": "python",
   "nbconvert_exporter": "python",
   "pygments_lexer": "ipython3",
   "version": "3.7.6"
  }
 },
 "nbformat": 4,
 "nbformat_minor": 4
}
